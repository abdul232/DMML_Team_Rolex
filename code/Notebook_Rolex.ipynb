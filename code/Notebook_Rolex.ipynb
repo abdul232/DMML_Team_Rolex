{
 "cells": [
  {
   "cell_type": "markdown",
   "metadata": {},
   "source": [
    "# Betting strategies \n",
    "# _England Premiere League Results & Odds Dataset_\n",
    "\n",
    "## I. Introduction\n",
    "\n",
    "> You do not know anything about sports betting or you want to implement a new strategy? This notebook will help you understand this world, and also provide you a **betting strategy** that you will be able to apply on your own.\n",
    "\n",
    "In this report, we will take the example of Football, one of the sports with the highest number of bets. More precisely, we will concentrate on **England Premiere League results**, because its great number of matches will allow us to test and build a strategy. \n",
    "\n",
    "#### Explanations on betting's vocabulary\n",
    "First, let's set up the vocabulary. While betting,  _odds_ are linked to each bet you make. Betting odds tell you how likely an event is to happen, and represents how much money you could win if your bet realizes itself.\n",
    "> For example, you are on a betting website. If the odd is set as 1.40 for \"Home team win\" and you put 10€ on this odd, if the Home team actually wins (so your prediction realizes itself), you will earn 4€ and get back your first 10€.\n",
    "\n",
    "There is the possibility to bet on different type of results before a match. Here, we will take into account these type of bets: the number of goals during a game(< 2.5 goals or > 2.5 goals), the other on the match result (Home team wins, Away team wins, Draw match).\n"
   ]
  },
  {
   "cell_type": "markdown",
   "metadata": {},
   "source": [
    "## II. Dataset & Variables\n",
    "\n",
    "The dataset we chose groups the results of the English Premier League matches **from 2008 to 2019**. The variables available are about the matches : the match's **ID**, the match's **date time**, the **Home team**, the **Away team**, the final **number of goals**, the **match result** (Home Team win, Away Team win or Draw Match), the **team's ranking** of the previous Football season (static rank at the end of the past season), the **referee** for the match, the number of **shots**, the number of **fouls**, and the other variables are not directly linked to the match statistics. These other variables are **the odds set before the match** by **different betting websites**. Some of these odds are set on the **number of goals** (< or > than 2.5 goals at the end of the match for the Home or Away Team), while others are set on the **final result** of the match (Home Team win, Away Team win, Draw Match).\n",
    "\n",
    "## III. Goal of the project & models\n",
    "\n",
    "The goal of the project is to build a model that can predict the following output : Home Team win, Away Team win or Draw match.\n",
    "Of course, the model will not predict perfectly the output, but by knowing which match result have the most chances to happen can create some winning bets. This will be done through **Classifications** models\n",
    "\n",
    "We decided to build two models : \n",
    "- One time, we will try to predict a match result based on the **betting websites' predictions**, that can be seen **through the odds** websites put on the possible result. \n",
    "\n",
    "- Another time we will use the **Match Statistics**, with the rank of each team, the number of shots/fouls, the number of goals, etc. \n",
    "\n",
    "In order to obtain these predictions, we will also try two kind of classifications : **Descision Trees** and **Logistic Regressions**. \n",
    "\n",
    "> In the end, we will evaluate the relevance of each classification method, and also define **which independant variables** (Odds or Statitics of the Match) **explained the best the Match Result**.\n",
    "\n",
    "## IV. Methodology\n",
    "\n",
    "1. At first, we will import the packages that we will need during this analyse.\n",
    "2. Then, we will upload, clean and add the necessary variables to complete the Dataset.\n",
    "3. Some variables will be transformed the variables in a way we can use them properly.  \n",
    "4. Consequently, we will create the models for each problem, with the two classification methods.\n",
    "5. We will also evaluate the accuracy of the models and adapt them to reduce the noise.\n",
    "6. To add, we will integrate some graphics to help a better understanding of the project.\n",
    "7. Finally, we will draw some conclusions that we can be retrieved from these classfications and methodologies.\n",
    "\n",
    "> A final retrospective on this project will also be done.\n",
    "\n",
    "\n",
    "\n",
    "\n",
    "(Unfortunately we did find one with all the variables we were looking for, like the Ex-Rank variable which represent the ranking of the teams for the last season. Our Data contained also a few of missing value so we had to deal with it.) ?\n",
    "\n",
    "As we face a classification problem with a binary output which is \"Win or not Win\", we will construct two models with Logistic Regressions, one model with the match's statistics, another with odds as inputs and compare them. We will also use a decision tree with the same inputs and output. Finally, we will compare the two methodologies. \n",
    "\n",
    "Finally we will analyse our models and try to tink about how we could improve them and how they could be useful for business.\n"
   ]
  },
  {
   "cell_type": "markdown",
   "metadata": {},
   "source": [
    "## 1. Packages"
   ]
  },
  {
   "cell_type": "code",
   "execution_count": 1,
   "metadata": {},
   "outputs": [],
   "source": [
    "# Useful starting lines\n",
    "%matplotlib inline\n",
    "import numpy as np\n",
    "import matplotlib.pyplot as plt\n",
    "from matplotlib import collections  as mc\n",
    "%load_ext autoreload\n",
    "%autoreload 2\n",
    "import pandas as pd \n",
    "import seaborn as sns\n",
    "from sklearn.preprocessing import LabelEncoder, OneHotEncoder\n",
    "sns.set_style(\"white\")"
   ]
  },
  {
   "cell_type": "markdown",
   "metadata": {},
   "source": [
    "## 2. The dataset\n",
    "\n",
    "The following table shows the 10 first rows of the dataset. It was uploaded from a csv file, and we decided yo name it **_data_**."
   ]
  },
  {
   "cell_type": "code",
   "execution_count": 2,
   "metadata": {
    "colab": {
     "base_uri": "https://localhost:8080/",
     "height": 1000
    },
    "colab_type": "code",
    "executionInfo": {
     "elapsed": 826,
     "status": "ok",
     "timestamp": 1574259812216,
     "user": {
      "displayName": "Abdoo Aloraib",
      "photoUrl": "https://lh3.googleusercontent.com/a-/AAuE7mCUO9oHDV-z7IuSjn4Tf1zgFORfDmiFylWCNgAY=s64",
      "userId": "10713939061096290051"
     },
     "user_tz": -60
    },
    "id": "imYCkCGmMNIw",
    "outputId": "a9c39db3-798c-4d3d-d073-a62a7c8b71d4",
    "scrolled": true
   },
   "outputs": [
    {
     "data": {
      "text/html": [
       "<div>\n",
       "<style scoped>\n",
       "    .dataframe tbody tr th:only-of-type {\n",
       "        vertical-align: middle;\n",
       "    }\n",
       "\n",
       "    .dataframe tbody tr th {\n",
       "        vertical-align: top;\n",
       "    }\n",
       "\n",
       "    .dataframe thead th {\n",
       "        text-align: right;\n",
       "    }\n",
       "</style>\n",
       "<table border=\"1\" class=\"dataframe\">\n",
       "  <thead>\n",
       "    <tr style=\"text-align: right;\">\n",
       "      <th></th>\n",
       "      <th>Match_ID</th>\n",
       "      <th>Date</th>\n",
       "      <th>HomeTeam</th>\n",
       "      <th>AwayTeam</th>\n",
       "      <th>Home ex-Rank</th>\n",
       "      <th>Home Team Goals</th>\n",
       "      <th>Away ex-Rank</th>\n",
       "      <th>Away Team Goals</th>\n",
       "      <th>Match Result</th>\n",
       "      <th>Referee</th>\n",
       "      <th>...</th>\n",
       "      <th>Unnamed: 60</th>\n",
       "      <th>Unnamed: 61</th>\n",
       "      <th>Unnamed: 62</th>\n",
       "      <th>Unnamed: 63</th>\n",
       "      <th>Unnamed: 64</th>\n",
       "      <th>Unnamed: 65</th>\n",
       "      <th>Unnamed: 66</th>\n",
       "      <th>Unnamed: 67</th>\n",
       "      <th>Unnamed: 68</th>\n",
       "      <th>Unnamed: 69</th>\n",
       "    </tr>\n",
       "  </thead>\n",
       "  <tbody>\n",
       "    <tr>\n",
       "      <th>0</th>\n",
       "      <td>1</td>\n",
       "      <td>16.08.08</td>\n",
       "      <td>Arsenal</td>\n",
       "      <td>West Brom</td>\n",
       "      <td>6</td>\n",
       "      <td>1</td>\n",
       "      <td>18</td>\n",
       "      <td>0</td>\n",
       "      <td>H</td>\n",
       "      <td>H Webb</td>\n",
       "      <td>...</td>\n",
       "      <td>NaN</td>\n",
       "      <td>NaN</td>\n",
       "      <td>NaN</td>\n",
       "      <td>NaN</td>\n",
       "      <td>NaN</td>\n",
       "      <td>NaN</td>\n",
       "      <td>NaN</td>\n",
       "      <td>NaN</td>\n",
       "      <td>NaN</td>\n",
       "      <td>NaN</td>\n",
       "    </tr>\n",
       "    <tr>\n",
       "      <th>1</th>\n",
       "      <td>2</td>\n",
       "      <td>16.08.08</td>\n",
       "      <td>Bolton</td>\n",
       "      <td>Stoke</td>\n",
       "      <td>16</td>\n",
       "      <td>3</td>\n",
       "      <td>19</td>\n",
       "      <td>1</td>\n",
       "      <td>H</td>\n",
       "      <td>C Foy</td>\n",
       "      <td>...</td>\n",
       "      <td>NaN</td>\n",
       "      <td>NaN</td>\n",
       "      <td>NaN</td>\n",
       "      <td>NaN</td>\n",
       "      <td>NaN</td>\n",
       "      <td>NaN</td>\n",
       "      <td>NaN</td>\n",
       "      <td>NaN</td>\n",
       "      <td>NaN</td>\n",
       "      <td>NaN</td>\n",
       "    </tr>\n",
       "    <tr>\n",
       "      <th>2</th>\n",
       "      <td>3</td>\n",
       "      <td>16.08.08</td>\n",
       "      <td>Everton</td>\n",
       "      <td>Blackburn</td>\n",
       "      <td>5</td>\n",
       "      <td>2</td>\n",
       "      <td>7</td>\n",
       "      <td>3</td>\n",
       "      <td>A</td>\n",
       "      <td>A Marriner</td>\n",
       "      <td>...</td>\n",
       "      <td>NaN</td>\n",
       "      <td>NaN</td>\n",
       "      <td>NaN</td>\n",
       "      <td>NaN</td>\n",
       "      <td>NaN</td>\n",
       "      <td>NaN</td>\n",
       "      <td>NaN</td>\n",
       "      <td>NaN</td>\n",
       "      <td>NaN</td>\n",
       "      <td>NaN</td>\n",
       "    </tr>\n",
       "    <tr>\n",
       "      <th>3</th>\n",
       "      <td>4</td>\n",
       "      <td>16.08.08</td>\n",
       "      <td>Hull</td>\n",
       "      <td>Fulham</td>\n",
       "      <td>20</td>\n",
       "      <td>2</td>\n",
       "      <td>17</td>\n",
       "      <td>1</td>\n",
       "      <td>H</td>\n",
       "      <td>P Walton</td>\n",
       "      <td>...</td>\n",
       "      <td>NaN</td>\n",
       "      <td>NaN</td>\n",
       "      <td>NaN</td>\n",
       "      <td>NaN</td>\n",
       "      <td>NaN</td>\n",
       "      <td>NaN</td>\n",
       "      <td>NaN</td>\n",
       "      <td>NaN</td>\n",
       "      <td>NaN</td>\n",
       "      <td>NaN</td>\n",
       "    </tr>\n",
       "    <tr>\n",
       "      <th>4</th>\n",
       "      <td>5</td>\n",
       "      <td>16.08.08</td>\n",
       "      <td>Middlesbrough</td>\n",
       "      <td>Tottenham</td>\n",
       "      <td>13</td>\n",
       "      <td>2</td>\n",
       "      <td>11</td>\n",
       "      <td>1</td>\n",
       "      <td>H</td>\n",
       "      <td>M Atkinson</td>\n",
       "      <td>...</td>\n",
       "      <td>NaN</td>\n",
       "      <td>NaN</td>\n",
       "      <td>NaN</td>\n",
       "      <td>NaN</td>\n",
       "      <td>NaN</td>\n",
       "      <td>NaN</td>\n",
       "      <td>NaN</td>\n",
       "      <td>NaN</td>\n",
       "      <td>NaN</td>\n",
       "      <td>NaN</td>\n",
       "    </tr>\n",
       "    <tr>\n",
       "      <th>5</th>\n",
       "      <td>6</td>\n",
       "      <td>16.08.08</td>\n",
       "      <td>Sunderland</td>\n",
       "      <td>Liverpool</td>\n",
       "      <td>15</td>\n",
       "      <td>0</td>\n",
       "      <td>4</td>\n",
       "      <td>1</td>\n",
       "      <td>A</td>\n",
       "      <td>A Wiley</td>\n",
       "      <td>...</td>\n",
       "      <td>NaN</td>\n",
       "      <td>NaN</td>\n",
       "      <td>NaN</td>\n",
       "      <td>NaN</td>\n",
       "      <td>NaN</td>\n",
       "      <td>NaN</td>\n",
       "      <td>NaN</td>\n",
       "      <td>NaN</td>\n",
       "      <td>NaN</td>\n",
       "      <td>NaN</td>\n",
       "    </tr>\n",
       "    <tr>\n",
       "      <th>6</th>\n",
       "      <td>7</td>\n",
       "      <td>16.08.08</td>\n",
       "      <td>West Ham</td>\n",
       "      <td>Wigan</td>\n",
       "      <td>10</td>\n",
       "      <td>2</td>\n",
       "      <td>14</td>\n",
       "      <td>1</td>\n",
       "      <td>H</td>\n",
       "      <td>S Bennett</td>\n",
       "      <td>...</td>\n",
       "      <td>NaN</td>\n",
       "      <td>NaN</td>\n",
       "      <td>NaN</td>\n",
       "      <td>NaN</td>\n",
       "      <td>NaN</td>\n",
       "      <td>NaN</td>\n",
       "      <td>NaN</td>\n",
       "      <td>NaN</td>\n",
       "      <td>NaN</td>\n",
       "      <td>NaN</td>\n",
       "    </tr>\n",
       "    <tr>\n",
       "      <th>7</th>\n",
       "      <td>8</td>\n",
       "      <td>17.08.08</td>\n",
       "      <td>Aston Villa</td>\n",
       "      <td>Man City</td>\n",
       "      <td>6</td>\n",
       "      <td>4</td>\n",
       "      <td>9</td>\n",
       "      <td>2</td>\n",
       "      <td>H</td>\n",
       "      <td>P Dowd</td>\n",
       "      <td>...</td>\n",
       "      <td>NaN</td>\n",
       "      <td>NaN</td>\n",
       "      <td>NaN</td>\n",
       "      <td>NaN</td>\n",
       "      <td>NaN</td>\n",
       "      <td>NaN</td>\n",
       "      <td>NaN</td>\n",
       "      <td>NaN</td>\n",
       "      <td>NaN</td>\n",
       "      <td>NaN</td>\n",
       "    </tr>\n",
       "    <tr>\n",
       "      <th>8</th>\n",
       "      <td>9</td>\n",
       "      <td>17.08.08</td>\n",
       "      <td>Chelsea</td>\n",
       "      <td>Portsmouth</td>\n",
       "      <td>2</td>\n",
       "      <td>4</td>\n",
       "      <td>8</td>\n",
       "      <td>0</td>\n",
       "      <td>H</td>\n",
       "      <td>M Dean</td>\n",
       "      <td>...</td>\n",
       "      <td>NaN</td>\n",
       "      <td>NaN</td>\n",
       "      <td>NaN</td>\n",
       "      <td>NaN</td>\n",
       "      <td>NaN</td>\n",
       "      <td>NaN</td>\n",
       "      <td>NaN</td>\n",
       "      <td>NaN</td>\n",
       "      <td>NaN</td>\n",
       "      <td>NaN</td>\n",
       "    </tr>\n",
       "    <tr>\n",
       "      <th>9</th>\n",
       "      <td>10</td>\n",
       "      <td>17.08.08</td>\n",
       "      <td>Man United</td>\n",
       "      <td>Newcastle</td>\n",
       "      <td>1</td>\n",
       "      <td>1</td>\n",
       "      <td>12</td>\n",
       "      <td>1</td>\n",
       "      <td>D</td>\n",
       "      <td>M Riley</td>\n",
       "      <td>...</td>\n",
       "      <td>NaN</td>\n",
       "      <td>NaN</td>\n",
       "      <td>NaN</td>\n",
       "      <td>NaN</td>\n",
       "      <td>NaN</td>\n",
       "      <td>NaN</td>\n",
       "      <td>NaN</td>\n",
       "      <td>NaN</td>\n",
       "      <td>NaN</td>\n",
       "      <td>NaN</td>\n",
       "    </tr>\n",
       "  </tbody>\n",
       "</table>\n",
       "<p>10 rows × 70 columns</p>\n",
       "</div>"
      ],
      "text/plain": [
       "   Match_ID      Date       HomeTeam    AwayTeam  Home ex-Rank  \\\n",
       "0         1  16.08.08        Arsenal   West Brom             6   \n",
       "1         2  16.08.08         Bolton       Stoke            16   \n",
       "2         3  16.08.08        Everton   Blackburn             5   \n",
       "3         4  16.08.08           Hull      Fulham            20   \n",
       "4         5  16.08.08  Middlesbrough   Tottenham            13   \n",
       "5         6  16.08.08     Sunderland   Liverpool            15   \n",
       "6         7  16.08.08       West Ham       Wigan            10   \n",
       "7         8  17.08.08    Aston Villa    Man City             6   \n",
       "8         9  17.08.08        Chelsea  Portsmouth             2   \n",
       "9        10  17.08.08     Man United   Newcastle             1   \n",
       "\n",
       "   Home Team Goals  Away ex-Rank  Away Team Goals Match Result     Referee  \\\n",
       "0                1            18                0            H      H Webb   \n",
       "1                3            19                1            H       C Foy   \n",
       "2                2             7                3            A  A Marriner   \n",
       "3                2            17                1            H    P Walton   \n",
       "4                2            11                1            H  M Atkinson   \n",
       "5                0             4                1            A     A Wiley   \n",
       "6                2            14                1            H   S Bennett   \n",
       "7                4             9                2            H      P Dowd   \n",
       "8                4             8                0            H      M Dean   \n",
       "9                1            12                1            D     M Riley   \n",
       "\n",
       "   ...  Unnamed: 60  Unnamed: 61  Unnamed: 62  Unnamed: 63  Unnamed: 64  \\\n",
       "0  ...          NaN          NaN          NaN          NaN          NaN   \n",
       "1  ...          NaN          NaN          NaN          NaN          NaN   \n",
       "2  ...          NaN          NaN          NaN          NaN          NaN   \n",
       "3  ...          NaN          NaN          NaN          NaN          NaN   \n",
       "4  ...          NaN          NaN          NaN          NaN          NaN   \n",
       "5  ...          NaN          NaN          NaN          NaN          NaN   \n",
       "6  ...          NaN          NaN          NaN          NaN          NaN   \n",
       "7  ...          NaN          NaN          NaN          NaN          NaN   \n",
       "8  ...          NaN          NaN          NaN          NaN          NaN   \n",
       "9  ...          NaN          NaN          NaN          NaN          NaN   \n",
       "\n",
       "   Unnamed: 65  Unnamed: 66  Unnamed: 67  Unnamed: 68  Unnamed: 69  \n",
       "0          NaN          NaN          NaN          NaN          NaN  \n",
       "1          NaN          NaN          NaN          NaN          NaN  \n",
       "2          NaN          NaN          NaN          NaN          NaN  \n",
       "3          NaN          NaN          NaN          NaN          NaN  \n",
       "4          NaN          NaN          NaN          NaN          NaN  \n",
       "5          NaN          NaN          NaN          NaN          NaN  \n",
       "6          NaN          NaN          NaN          NaN          NaN  \n",
       "7          NaN          NaN          NaN          NaN          NaN  \n",
       "8          NaN          NaN          NaN          NaN          NaN  \n",
       "9          NaN          NaN          NaN          NaN          NaN  \n",
       "\n",
       "[10 rows x 70 columns]"
      ]
     },
     "execution_count": 2,
     "metadata": {},
     "output_type": "execute_result"
    }
   ],
   "source": [
    "#We use the Dataset with the games of the season 2018\n",
    "data = pd.read_csv('https://raw.githubusercontent.com/abdul232/DMML_Team_Rolex/master/data/England_2008_2018_Premiere_League_Final.csv',sep=\";\")\n",
    "\n",
    "#data = data.sort_values(by=\"Match_ID\",ascending=True)\n",
    "# view the first 10 rows \n",
    "data.head(10)\n"
   ]
  },
  {
   "cell_type": "code",
   "execution_count": 3,
   "metadata": {
    "scrolled": true
   },
   "outputs": [
    {
     "data": {
      "text/plain": [
       "(4180, 70)"
      ]
     },
     "execution_count": 3,
     "metadata": {},
     "output_type": "execute_result"
    }
   ],
   "source": [
    "data.shape"
   ]
  },
  {
   "cell_type": "markdown",
   "metadata": {},
   "source": [
    "As we can see, we have some NaN variables in our data due to a format change, so we have to remove them."
   ]
  },
  {
   "cell_type": "code",
   "execution_count": 4,
   "metadata": {
    "scrolled": true
   },
   "outputs": [
    {
     "data": {
      "text/plain": [
       "(4180, 49)"
      ]
     },
     "execution_count": 4,
     "metadata": {},
     "output_type": "execute_result"
    }
   ],
   "source": [
    "data = data.drop([\"Unnamed: 49\", \"Unnamed: 50\", \"Unnamed: 51\",\"Unnamed: 52\",\"Unnamed: 53\",\"Unnamed: 54\",\"Unnamed: 55\",\"Unnamed: 56\",\"Unnamed: 57\",\"Unnamed: 58\",\"Unnamed: 59\",\"Unnamed: 60\",\"Unnamed: 61\",\"Unnamed: 62\",\"Unnamed: 63\",\"Unnamed: 64\",\"Unnamed: 65\",\"Unnamed: 66\",\"Unnamed: 67\",\"Unnamed: 68\",\"Unnamed: 69\"], axis=1)\n",
    "\n",
    "#We have a new dimension\n",
    "data.shape"
   ]
  },
  {
   "cell_type": "markdown",
   "metadata": {},
   "source": [
    "We have also seen that some rows were showing _NaN_ data, so we removed them too."
   ]
  },
  {
   "cell_type": "code",
   "execution_count": 5,
   "metadata": {},
   "outputs": [
    {
     "data": {
      "text/plain": [
       "(4176, 49)"
      ]
     },
     "execution_count": 5,
     "metadata": {},
     "output_type": "execute_result"
    }
   ],
   "source": [
    "data.dropna(inplace=True)\n",
    "data.shape"
   ]
  },
  {
   "cell_type": "markdown",
   "metadata": {},
   "source": [
    "Finally, this dataset (without the _NaN_ ) counts **4'176** rows for **49** columns.\n"
   ]
  },
  {
   "cell_type": "markdown",
   "metadata": {},
   "source": [
    "## 3. Changing variables types\n",
    "\n",
    "Now, as we settled up the **types of the variables**. We will change some as int (integer), the date as datetime, while other will remain objects."
   ]
  },
  {
   "cell_type": "code",
   "execution_count": 6,
   "metadata": {
    "scrolled": false
   },
   "outputs": [
    {
     "data": {
      "text/plain": [
       "Match_ID                                  int64\n",
       "Date                                     object\n",
       "HomeTeam                                 object\n",
       "AwayTeam                                 object\n",
       "Home ex-Rank                              int64\n",
       "Home Team Goals                           int64\n",
       "Away ex-Rank                              int64\n",
       "Away Team Goals                           int64\n",
       "Match Result                             object\n",
       "Referee                                  object\n",
       "Home Team Shots                           int64\n",
       "Away Team Shots                           int64\n",
       "Home Team Shots on Target                 int64\n",
       "Away Team Shots on Target                 int64\n",
       "Home Fouls Committed                      int64\n",
       "Away Fouls Committed                      int64\n",
       "Home Corners                              int64\n",
       "Away Corners                              int64\n",
       "Home Yellow Cards                         int64\n",
       "Away Yellow Cards                         int64\n",
       "Home Red Cards                            int64\n",
       "Away Red Cards                            int64\n",
       "B365 Home                               float64\n",
       "B365 Draw                               float64\n",
       "B365 Away                               float64\n",
       "Bet&Win Home                            float64\n",
       "Bet&Win Draw                            float64\n",
       "Bet&Win Away                            float64\n",
       "Interwetten Home                        float64\n",
       "Interwetten Draw                        float64\n",
       "Interwetten Away                        float64\n",
       "William Hill Home                       float64\n",
       "William Hill Draw                       float64\n",
       "William Hill Away                       float64\n",
       "VC Bet Home                             float64\n",
       "VC Bet Draw                             float64\n",
       "VC Bet Away                             float64\n",
       "Betbrain Numbers of bookmakers 1X2        int64\n",
       "Betbrain Maximum Home                   float64\n",
       "Betbrain Average Home                   float64\n",
       "Betbrain Maximum Draw                   float64\n",
       "Betbrain Average Draw                   float64\n",
       "Betbrain Maximum Away                   float64\n",
       "Betbrain Average Away                   float64\n",
       "Betbrain Numbers of bookmakers Goals      int64\n",
       "Betbrain Max > 2.5 Goals                float64\n",
       "Betbrain Average > 2.5 Goals            float64\n",
       "Betbrain Max < 2.5 Goals                float64\n",
       "Betbrain Average < 2.5 Goals            float64\n",
       "dtype: object"
      ]
     },
     "execution_count": 6,
     "metadata": {},
     "output_type": "execute_result"
    }
   ],
   "source": [
    "data.dtypes"
   ]
  },
  {
   "cell_type": "code",
   "execution_count": 7,
   "metadata": {
    "scrolled": true
   },
   "outputs": [],
   "source": [
    "#We have to change the type of some variable (integer)\n",
    "data['Match_ID'] = data.Match_ID.astype(int)"
   ]
  },
  {
   "cell_type": "code",
   "execution_count": 8,
   "metadata": {
    "scrolled": true
   },
   "outputs": [],
   "source": [
    "#We have to change the type of some variable (integer)\n",
    "data[['Home Team Goals', 'Away Team Goals', 'Home Team Shots','Away Team Shots', 'Home Team Shots on Target', 'Away Team Shots on Target', 'Home Fouls Committed', 'Away Fouls Committed', 'Home Corners', 'Away Corners', 'Home Yellow Cards', 'Away Yellow Cards', 'Home Red Cards', 'Away Red Cards']]= data[['Home Team Goals', 'Away Team Goals', 'Home Team Shots','Away Team Shots', 'Home Team Shots on Target', 'Away Team Shots on Target', 'Home Fouls Committed', 'Away Fouls Committed', 'Home Corners', 'Away Corners', 'Home Yellow Cards', 'Away Yellow Cards', 'Home Red Cards', 'Away Red Cards']].astype(int)"
   ]
  },
  {
   "cell_type": "code",
   "execution_count": 9,
   "metadata": {
    "scrolled": true
   },
   "outputs": [],
   "source": [
    "#We have to change the type of some variable (Date)\n",
    "data['Date'] = pd.to_datetime(data['Date'],)\n"
   ]
  },
  {
   "cell_type": "code",
   "execution_count": 10,
   "metadata": {
    "scrolled": true
   },
   "outputs": [
    {
     "data": {
      "text/plain": [
       "Match_ID                                         int32\n",
       "Date                                    datetime64[ns]\n",
       "HomeTeam                                        object\n",
       "AwayTeam                                        object\n",
       "Home ex-Rank                                     int64\n",
       "Home Team Goals                                  int32\n",
       "Away ex-Rank                                     int64\n",
       "Away Team Goals                                  int32\n",
       "Match Result                                    object\n",
       "Referee                                         object\n",
       "Home Team Shots                                  int32\n",
       "Away Team Shots                                  int32\n",
       "Home Team Shots on Target                        int32\n",
       "Away Team Shots on Target                        int32\n",
       "Home Fouls Committed                             int32\n",
       "Away Fouls Committed                             int32\n",
       "Home Corners                                     int32\n",
       "Away Corners                                     int32\n",
       "Home Yellow Cards                                int32\n",
       "Away Yellow Cards                                int32\n",
       "Home Red Cards                                   int32\n",
       "Away Red Cards                                   int32\n",
       "B365 Home                                      float64\n",
       "B365 Draw                                      float64\n",
       "B365 Away                                      float64\n",
       "Bet&Win Home                                   float64\n",
       "Bet&Win Draw                                   float64\n",
       "Bet&Win Away                                   float64\n",
       "Interwetten Home                               float64\n",
       "Interwetten Draw                               float64\n",
       "Interwetten Away                               float64\n",
       "William Hill Home                              float64\n",
       "William Hill Draw                              float64\n",
       "William Hill Away                              float64\n",
       "VC Bet Home                                    float64\n",
       "VC Bet Draw                                    float64\n",
       "VC Bet Away                                    float64\n",
       "Betbrain Numbers of bookmakers 1X2               int64\n",
       "Betbrain Maximum Home                          float64\n",
       "Betbrain Average Home                          float64\n",
       "Betbrain Maximum Draw                          float64\n",
       "Betbrain Average Draw                          float64\n",
       "Betbrain Maximum Away                          float64\n",
       "Betbrain Average Away                          float64\n",
       "Betbrain Numbers of bookmakers Goals             int64\n",
       "Betbrain Max > 2.5 Goals                       float64\n",
       "Betbrain Average > 2.5 Goals                   float64\n",
       "Betbrain Max < 2.5 Goals                       float64\n",
       "Betbrain Average < 2.5 Goals                   float64\n",
       "dtype: object"
      ]
     },
     "execution_count": 10,
     "metadata": {},
     "output_type": "execute_result"
    }
   ],
   "source": [
    "data.dtypes"
   ]
  },
  {
   "cell_type": "markdown",
   "metadata": {},
   "source": [
    "\n",
    "## 4. Tendencies through scatter plots\n",
    "\n",
    "A match has 3 different possible results (the Home Team wins, the Away Team wins or a Draw match). Each of these results are likely to happen, or not happen. This fact shows the need of a binary variable, for each of the match result."
   ]
  },
  {
   "cell_type": "code",
   "execution_count": 11,
   "metadata": {},
   "outputs": [],
   "source": [
    "#We wo, one for the Home team wins, one for the draws and one for the Away team wins\n",
    "data = pd.get_dummies(data, columns=['Match Result'])"
   ]
  },
  {
   "cell_type": "markdown",
   "metadata": {},
   "source": [
    "Before building the graphs, we will normalise the odds numbers to better the comparison between the graphs. It will create a common scale for all the odds.\n"
   ]
  },
  {
   "cell_type": "code",
   "execution_count": 12,
   "metadata": {
    "scrolled": true
   },
   "outputs": [
    {
     "data": {
      "text/html": [
       "<div>\n",
       "<style scoped>\n",
       "    .dataframe tbody tr th:only-of-type {\n",
       "        vertical-align: middle;\n",
       "    }\n",
       "\n",
       "    .dataframe tbody tr th {\n",
       "        vertical-align: top;\n",
       "    }\n",
       "\n",
       "    .dataframe thead th {\n",
       "        text-align: right;\n",
       "    }\n",
       "</style>\n",
       "<table border=\"1\" class=\"dataframe\">\n",
       "  <thead>\n",
       "    <tr style=\"text-align: right;\">\n",
       "      <th></th>\n",
       "      <th>B365 Home</th>\n",
       "      <th>B365 Draw</th>\n",
       "      <th>B365 Away</th>\n",
       "      <th>Bet&amp;Win Home</th>\n",
       "      <th>Bet&amp;Win Draw</th>\n",
       "      <th>Bet&amp;Win Away</th>\n",
       "      <th>Interwetten Home</th>\n",
       "      <th>Interwetten Draw</th>\n",
       "      <th>Interwetten Away</th>\n",
       "      <th>William Hill Home</th>\n",
       "      <th>William Hill Draw</th>\n",
       "      <th>William Hill Away</th>\n",
       "      <th>VC Bet Home</th>\n",
       "      <th>VC Bet Draw</th>\n",
       "      <th>VC Bet Away</th>\n",
       "    </tr>\n",
       "  </thead>\n",
       "  <tbody>\n",
       "    <tr>\n",
       "      <th>0</th>\n",
       "      <td>0.006381</td>\n",
       "      <td>0.250000</td>\n",
       "      <td>0.348044</td>\n",
       "      <td>0.008521</td>\n",
       "      <td>0.234234</td>\n",
       "      <td>0.254373</td>\n",
       "      <td>0.007916</td>\n",
       "      <td>0.248619</td>\n",
       "      <td>0.354376</td>\n",
       "      <td>0.006015</td>\n",
       "      <td>0.264706</td>\n",
       "      <td>0.242424</td>\n",
       "      <td>0.009112</td>\n",
       "      <td>0.280</td>\n",
       "      <td>0.237866</td>\n",
       "    </tr>\n",
       "    <tr>\n",
       "      <th>1</th>\n",
       "      <td>0.035096</td>\n",
       "      <td>0.035714</td>\n",
       "      <td>0.084754</td>\n",
       "      <td>0.035088</td>\n",
       "      <td>0.036036</td>\n",
       "      <td>0.093777</td>\n",
       "      <td>0.036939</td>\n",
       "      <td>0.038674</td>\n",
       "      <td>0.110473</td>\n",
       "      <td>0.037594</td>\n",
       "      <td>0.029412</td>\n",
       "      <td>0.064171</td>\n",
       "      <td>0.036446</td>\n",
       "      <td>0.072</td>\n",
       "      <td>0.073406</td>\n",
       "    </tr>\n",
       "    <tr>\n",
       "      <th>2</th>\n",
       "      <td>0.042844</td>\n",
       "      <td>0.021429</td>\n",
       "      <td>0.072217</td>\n",
       "      <td>0.040100</td>\n",
       "      <td>0.031532</td>\n",
       "      <td>0.082306</td>\n",
       "      <td>0.050132</td>\n",
       "      <td>0.027624</td>\n",
       "      <td>0.078192</td>\n",
       "      <td>0.045113</td>\n",
       "      <td>0.029412</td>\n",
       "      <td>0.053030</td>\n",
       "      <td>0.045558</td>\n",
       "      <td>0.064</td>\n",
       "      <td>0.057361</td>\n",
       "    </tr>\n",
       "    <tr>\n",
       "      <th>3</th>\n",
       "      <td>0.070191</td>\n",
       "      <td>0.014286</td>\n",
       "      <td>0.042126</td>\n",
       "      <td>0.070175</td>\n",
       "      <td>0.022523</td>\n",
       "      <td>0.043590</td>\n",
       "      <td>0.071240</td>\n",
       "      <td>0.027624</td>\n",
       "      <td>0.053085</td>\n",
       "      <td>0.072682</td>\n",
       "      <td>0.009804</td>\n",
       "      <td>0.033422</td>\n",
       "      <td>0.070615</td>\n",
       "      <td>0.072</td>\n",
       "      <td>0.033293</td>\n",
       "    </tr>\n",
       "    <tr>\n",
       "      <th>4</th>\n",
       "      <td>0.097539</td>\n",
       "      <td>0.028571</td>\n",
       "      <td>0.028335</td>\n",
       "      <td>0.087719</td>\n",
       "      <td>0.027027</td>\n",
       "      <td>0.033553</td>\n",
       "      <td>0.097625</td>\n",
       "      <td>0.027624</td>\n",
       "      <td>0.038737</td>\n",
       "      <td>0.092732</td>\n",
       "      <td>0.039216</td>\n",
       "      <td>0.022950</td>\n",
       "      <td>0.097950</td>\n",
       "      <td>0.072</td>\n",
       "      <td>0.023265</td>\n",
       "    </tr>\n",
       "    <tr>\n",
       "      <th>5</th>\n",
       "      <td>0.202370</td>\n",
       "      <td>0.042857</td>\n",
       "      <td>0.013791</td>\n",
       "      <td>0.197995</td>\n",
       "      <td>0.040541</td>\n",
       "      <td>0.015486</td>\n",
       "      <td>0.182058</td>\n",
       "      <td>0.060773</td>\n",
       "      <td>0.019010</td>\n",
       "      <td>0.223058</td>\n",
       "      <td>0.049020</td>\n",
       "      <td>0.010027</td>\n",
       "      <td>0.202733</td>\n",
       "      <td>0.104</td>\n",
       "      <td>0.010229</td>\n",
       "    </tr>\n",
       "    <tr>\n",
       "      <th>6</th>\n",
       "      <td>0.038742</td>\n",
       "      <td>0.028571</td>\n",
       "      <td>0.077232</td>\n",
       "      <td>0.042607</td>\n",
       "      <td>0.027027</td>\n",
       "      <td>0.076570</td>\n",
       "      <td>0.039578</td>\n",
       "      <td>0.038674</td>\n",
       "      <td>0.096126</td>\n",
       "      <td>0.039098</td>\n",
       "      <td>0.039216</td>\n",
       "      <td>0.058601</td>\n",
       "      <td>0.038724</td>\n",
       "      <td>0.080</td>\n",
       "      <td>0.064380</td>\n",
       "    </tr>\n",
       "    <tr>\n",
       "      <th>7</th>\n",
       "      <td>0.038742</td>\n",
       "      <td>0.028571</td>\n",
       "      <td>0.080491</td>\n",
       "      <td>0.045113</td>\n",
       "      <td>0.027027</td>\n",
       "      <td>0.070835</td>\n",
       "      <td>0.050132</td>\n",
       "      <td>0.027624</td>\n",
       "      <td>0.078192</td>\n",
       "      <td>0.043108</td>\n",
       "      <td>0.039216</td>\n",
       "      <td>0.053030</td>\n",
       "      <td>0.038724</td>\n",
       "      <td>0.080</td>\n",
       "      <td>0.064380</td>\n",
       "    </tr>\n",
       "    <tr>\n",
       "      <th>8</th>\n",
       "      <td>0.012306</td>\n",
       "      <td>0.142857</td>\n",
       "      <td>0.222668</td>\n",
       "      <td>0.012531</td>\n",
       "      <td>0.166667</td>\n",
       "      <td>0.204187</td>\n",
       "      <td>0.013193</td>\n",
       "      <td>0.160221</td>\n",
       "      <td>0.264706</td>\n",
       "      <td>0.012531</td>\n",
       "      <td>0.137255</td>\n",
       "      <td>0.164439</td>\n",
       "      <td>0.012756</td>\n",
       "      <td>0.200</td>\n",
       "      <td>0.197754</td>\n",
       "    </tr>\n",
       "    <tr>\n",
       "      <th>9</th>\n",
       "      <td>0.010483</td>\n",
       "      <td>0.178571</td>\n",
       "      <td>0.247743</td>\n",
       "      <td>0.012531</td>\n",
       "      <td>0.166667</td>\n",
       "      <td>0.204187</td>\n",
       "      <td>0.013193</td>\n",
       "      <td>0.160221</td>\n",
       "      <td>0.264706</td>\n",
       "      <td>0.010025</td>\n",
       "      <td>0.166667</td>\n",
       "      <td>0.197861</td>\n",
       "      <td>0.010478</td>\n",
       "      <td>0.240</td>\n",
       "      <td>0.217810</td>\n",
       "    </tr>\n",
       "  </tbody>\n",
       "</table>\n",
       "</div>"
      ],
      "text/plain": [
       "   B365 Home  B365 Draw  B365 Away  Bet&Win Home  Bet&Win Draw  Bet&Win Away  \\\n",
       "0   0.006381   0.250000   0.348044      0.008521      0.234234      0.254373   \n",
       "1   0.035096   0.035714   0.084754      0.035088      0.036036      0.093777   \n",
       "2   0.042844   0.021429   0.072217      0.040100      0.031532      0.082306   \n",
       "3   0.070191   0.014286   0.042126      0.070175      0.022523      0.043590   \n",
       "4   0.097539   0.028571   0.028335      0.087719      0.027027      0.033553   \n",
       "5   0.202370   0.042857   0.013791      0.197995      0.040541      0.015486   \n",
       "6   0.038742   0.028571   0.077232      0.042607      0.027027      0.076570   \n",
       "7   0.038742   0.028571   0.080491      0.045113      0.027027      0.070835   \n",
       "8   0.012306   0.142857   0.222668      0.012531      0.166667      0.204187   \n",
       "9   0.010483   0.178571   0.247743      0.012531      0.166667      0.204187   \n",
       "\n",
       "   Interwetten Home  Interwetten Draw  Interwetten Away  William Hill Home  \\\n",
       "0          0.007916          0.248619          0.354376           0.006015   \n",
       "1          0.036939          0.038674          0.110473           0.037594   \n",
       "2          0.050132          0.027624          0.078192           0.045113   \n",
       "3          0.071240          0.027624          0.053085           0.072682   \n",
       "4          0.097625          0.027624          0.038737           0.092732   \n",
       "5          0.182058          0.060773          0.019010           0.223058   \n",
       "6          0.039578          0.038674          0.096126           0.039098   \n",
       "7          0.050132          0.027624          0.078192           0.043108   \n",
       "8          0.013193          0.160221          0.264706           0.012531   \n",
       "9          0.013193          0.160221          0.264706           0.010025   \n",
       "\n",
       "   William Hill Draw  William Hill Away  VC Bet Home  VC Bet Draw  VC Bet Away  \n",
       "0           0.264706           0.242424     0.009112        0.280     0.237866  \n",
       "1           0.029412           0.064171     0.036446        0.072     0.073406  \n",
       "2           0.029412           0.053030     0.045558        0.064     0.057361  \n",
       "3           0.009804           0.033422     0.070615        0.072     0.033293  \n",
       "4           0.039216           0.022950     0.097950        0.072     0.023265  \n",
       "5           0.049020           0.010027     0.202733        0.104     0.010229  \n",
       "6           0.039216           0.058601     0.038724        0.080     0.064380  \n",
       "7           0.039216           0.053030     0.038724        0.080     0.064380  \n",
       "8           0.137255           0.164439     0.012756        0.200     0.197754  \n",
       "9           0.166667           0.197861     0.010478        0.240     0.217810  "
      ]
     },
     "execution_count": 12,
     "metadata": {},
     "output_type": "execute_result"
    }
   ],
   "source": [
    "from sklearn import preprocessing\n",
    "# separate the data from the target attributes\n",
    "#X = data['B365 Home','B365 Draw','B365 Away','Bet&Win Home','Bet&Win Draw','Bet&Win Away','Interwetten Home','Iterwetten Draw','Interwetten Away','William Hill Home','William Hill Draw','William Hill Away','VC Bet Home','VC Bet Draw','VC Bet Away']\n",
    "# normalisation par formule (x - x.min()) / (x.max() - x.min())\n",
    "cols_to_norm = ['B365 Home','B365 Draw','B365 Away','Bet&Win Home','Bet&Win Draw','Bet&Win Away','Interwetten Home','Interwetten Draw','Interwetten Away','William Hill Home','William Hill Draw','William Hill Away','VC Bet Home','VC Bet Draw','VC Bet Away']\n",
    "data[cols_to_norm] = data[cols_to_norm].apply(lambda x: (x - x.min()) / (x.max() - x.min())) \n",
    "data[cols_to_norm].head(10)"
   ]
  },
  {
   "cell_type": "markdown",
   "metadata": {},
   "source": [
    "To build a betting strategy, it is first relevant to know how frequently the betting companies makes right predicting or not. So, in order to understand this fact, we will build three different scatter plot, showing the realised and not realised predictions :\n",
    "\n",
    "- When the official result is the victory of the home team crossed with the \"Home team win\" odd.\n",
    "- When the official result is the victory of the away team crossed with the \"Away team win\" odd.\n",
    "- When the official result is draw match crossed with the \"Draw\"odd.\n",
    "\n",
    "We will build scatter plots for each of the 3 differents possible results we have in a match, and compare them with the odds."
   ]
  },
  {
   "cell_type": "markdown",
   "metadata": {},
   "source": [
    "1. **Home team wins scenario**: if the Home team wins the output is 1,  otherwise it's 0."
   ]
  },
  {
   "cell_type": "code",
   "execution_count": 13,
   "metadata": {},
   "outputs": [
    {
     "name": "stdout",
     "output_type": "stream",
     "text": [
      "Home won: 1929\n",
      "Home did not win: 2247\n"
     ]
    }
   ],
   "source": [
    "# number of Homewin vs No Home win\n",
    "Homewin = data[\"Match Result_H\"].value_counts()[1]\n",
    "NoHomewin = data[\"Match Result_H\"].value_counts()[0]\n",
    "print(\"Home won:\", Homewin)\n",
    "print(\"Home did not win:\", NoHomewin)"
   ]
  },
  {
   "cell_type": "code",
   "execution_count": 14,
   "metadata": {
    "scrolled": true
   },
   "outputs": [
    {
     "data": {
      "text/plain": [
       "0.5380747126436781"
      ]
     },
     "execution_count": 14,
     "metadata": {},
     "output_type": "execute_result"
    }
   ],
   "source": [
    "# Base rate \n",
    "# the base rate of the No Home Win\n",
    "BaseRate = NoHomewin/data['Match Result_H'].count()\n",
    "BaseRate"
   ]
  },
  {
   "cell_type": "markdown",
   "metadata": {},
   "source": [
    "**Interpretation**: We can see that we have a almost 50-50 repartition."
   ]
  },
  {
   "cell_type": "code",
   "execution_count": 15,
   "metadata": {},
   "outputs": [
    {
     "data": {
      "text/plain": [
       "[Text(0, 0.5, 'Home team won [1]'),\n",
       " Text(0.5, 0, 'Website Odd while Home Team wins')]"
      ]
     },
     "execution_count": 15,
     "metadata": {},
     "output_type": "execute_result"
    },
    {
     "data": {
      "image/png": "[encoded data removed]",
      "text/plain": [
       "<Figure size 432x288 with 1 Axes>"
      ]
     },
     "metadata": {
      "needs_background": "light"
     },
     "output_type": "display_data"
    }
   ],
   "source": [
    "from sklearn.linear_model import LinearRegression\n",
    "from sklearn.metrics import mean_absolute_error\n",
    "\n",
    "from sklearn import datasets, linear_model\n",
    "from sklearn.metrics import mean_squared_error, r2_score\n",
    "\n",
    "\n",
    "#tips = sns.load_dataset(data)\n",
    "\n",
    "a_B365_Home = sns.scatterplot(x=\"B365 Home\", y=\"Match Result_H\", data=data)\n",
    "\n",
    "a_BetWin_Home = sns.scatterplot(x=\"Bet&Win Home\", y=\"Match Result_H\", data=data)\n",
    "\n",
    "a_Interwetten_Home = sns.scatterplot(x=\"Interwetten Home\", y=\"Match Result_H\", data=data)\n",
    "\n",
    "a_WilliamHill_Home = sns.scatterplot(x=\"William Hill Home\", y=\"Match Result_H\", data=data)\n",
    "\n",
    "a_VCBet_Home = sns.scatterplot(x=\"VC Bet Home\", y=\"Match Result_H\", data=data)\n",
    "\n",
    "a_VCBet_Home.set(xlabel='Website Odd while Home Team wins', ylabel='Home team won [1]')\n"
   ]
  },
  {
   "cell_type": "markdown",
   "metadata": {},
   "source": [
    "**Interpretation:** As we can see the higher the odd is, the less a team has chance to win. However, it still happen sometimes.\n"
   ]
  },
  {
   "cell_type": "markdown",
   "metadata": {},
   "source": [
    "2. **Away team wins scenario**: if the Away team wins the output is 1,  otherwise it's 0."
   ]
  },
  {
   "cell_type": "code",
   "execution_count": 16,
   "metadata": {
    "scrolled": true
   },
   "outputs": [
    {
     "name": "stdout",
     "output_type": "stream",
     "text": [
      "Away won: 1210\n",
      "Away did not win: 2966\n"
     ]
    }
   ],
   "source": [
    "# number of Away win vs No Away win\n",
    "Awaywin = data[\"Match Result_A\"].value_counts()[1]\n",
    "NoAwaywin = data[\"Match Result_A\"].value_counts()[0]\n",
    "print(\"Away won:\", Awaywin)\n",
    "print(\"Away did not win:\", NoAwaywin)"
   ]
  },
  {
   "cell_type": "code",
   "execution_count": 17,
   "metadata": {
    "scrolled": true
   },
   "outputs": [
    {
     "data": {
      "text/plain": [
       "0.7102490421455939"
      ]
     },
     "execution_count": 17,
     "metadata": {},
     "output_type": "execute_result"
    }
   ],
   "source": [
    "# Base rate \n",
    "# the base rate of the No Home Win\n",
    "BaseRateA = NoAwaywin/data['Match Result_A'].count()\n",
    "BaseRateA"
   ]
  },
  {
   "cell_type": "markdown",
   "metadata": {},
   "source": [
    "**Interpretation**: We can see that we have a almost 70-30 repartition."
   ]
  },
  {
   "cell_type": "code",
   "execution_count": 18,
   "metadata": {
    "scrolled": true
   },
   "outputs": [
    {
     "data": {
      "text/plain": [
       "[Text(0, 0.5, 'Away team won [1]'),\n",
       " Text(0.5, 0, 'Website Odd while Away Team wins')]"
      ]
     },
     "execution_count": 18,
     "metadata": {},
     "output_type": "execute_result"
    },
    {
     "data": {
      "image/png": "[encoded data removed]",
      "text/plain": [
       "<Figure size 432x288 with 1 Axes>"
      ]
     },
     "metadata": {
      "needs_background": "light"
     },
     "output_type": "display_data"
    }
   ],
   "source": [
    "a_B365_Away = sns.scatterplot(x=\"B365 Away\", y=\"Match Result_A\", data=data)\n",
    "\n",
    "a_BetWin_Away = sns.scatterplot(x=\"Bet&Win Away\", y=\"Match Result_A\", data=data)\n",
    "\n",
    "a_Interwetten_Away = sns.scatterplot(x=\"Interwetten Away\", y=\"Match Result_A\", data=data)\n",
    "\n",
    "a_WilliamHill_Away = sns.scatterplot(x=\"William Hill Away\", y=\"Match Result_A\", data=data)\n",
    "\n",
    "a_VCBet_Away = sns.scatterplot(x=\"VC Bet Away\", y=\"Match Result_H\", data=data)\n",
    "\n",
    "a_VCBet_Away.set(xlabel='Website Odd while Away Team wins', ylabel='Away team won [1]')\n"
   ]
  },
  {
   "cell_type": "markdown",
   "metadata": {},
   "source": [
    "**Interpretation:** We can observe the same trend as the previous graph."
   ]
  },
  {
   "cell_type": "markdown",
   "metadata": {},
   "source": [
    "3. **Draw match scenario**: if the result is draw, the output is 1,  otherwise it's 0."
   ]
  },
  {
   "cell_type": "code",
   "execution_count": 19,
   "metadata": {},
   "outputs": [
    {
     "name": "stdout",
     "output_type": "stream",
     "text": [
      "Draw match: 1037\n",
      "No Draw match: 3139\n"
     ]
    }
   ],
   "source": [
    "# number of Draw vs No Draw\n",
    "Draw = data[\"Match Result_D\"].value_counts()[1]\n",
    "NoDraw = data[\"Match Result_D\"].value_counts()[0]\n",
    "print(\"Draw match:\", Draw)\n",
    "print(\"No Draw match:\", NoDraw)"
   ]
  },
  {
   "cell_type": "code",
   "execution_count": 20,
   "metadata": {
    "scrolled": true
   },
   "outputs": [
    {
     "data": {
      "text/plain": [
       "0.751676245210728"
      ]
     },
     "execution_count": 20,
     "metadata": {},
     "output_type": "execute_result"
    }
   ],
   "source": [
    "# Base rate \n",
    "# the base rate of the No Draw\n",
    "BaseRateD = NoDraw/data['Match Result_D'].count()\n",
    "BaseRateD"
   ]
  },
  {
   "cell_type": "markdown",
   "metadata": {},
   "source": [
    "**Interpretation**: We can see that we have a almost 75-25 repartition."
   ]
  },
  {
   "cell_type": "code",
   "execution_count": 21,
   "metadata": {},
   "outputs": [
    {
     "data": {
      "text/plain": [
       "[Text(0, 0.5, 'Draw [1]'), Text(0.5, 0, 'Website Odd while Draw match')]"
      ]
     },
     "execution_count": 21,
     "metadata": {},
     "output_type": "execute_result"
    },
    {
     "data": {
      "image/png": "[encoded data removed]",
      "text/plain": [
       "<Figure size 432x288 with 1 Axes>"
      ]
     },
     "metadata": {
      "needs_background": "light"
     },
     "output_type": "display_data"
    }
   ],
   "source": [
    "a_B365_Draw = sns.scatterplot(x=\"B365 Draw\", y=\"Match Result_D\", data=data)\n",
    "\n",
    "a_BetWin_Draw = sns.scatterplot(x=\"Bet&Win Draw\", y=\"Match Result_D\", data=data)\n",
    "\n",
    "a_Interwetten_Draw = sns.scatterplot(x=\"Interwetten Draw\", y=\"Match Result_D\", data=data)\n",
    "\n",
    "a_WilliamHill_Draw = sns.scatterplot(x=\"William Hill Draw\", y=\"Match Result_D\", data=data)\n",
    "\n",
    "a_VCBet_Draw = sns.scatterplot(x=\"VC Bet Draw\", y=\"Match Result_D\", data=data)\n",
    "\n",
    "a_VCBet_Draw.set(xlabel='Website Odd while Draw match', ylabel='Draw [1]')"
   ]
  },
  {
   "cell_type": "markdown",
   "metadata": {},
   "source": [
    "**Interpretation:** We can observe the same trend as the previous graph for the small odds. However, the high odds just never realize themselves.\n"
   ]
  },
  {
   "cell_type": "markdown",
   "metadata": {},
   "source": [
    "#### In conclusion of these scatter plots, we will only analize if the Homte team wins, and if the Away team wins. The results of the the Draw odds is not interesting for building a betting strategy on it, while there are no chances to get high amounts.\n",
    "\n",
    "Mettre plus explications? voir "
   ]
  },
  {
   "cell_type": "markdown",
   "metadata": {},
   "source": [
    "## 5. Comparison between two Classification models\n",
    "\n",
    "We will compare two model:\n",
    "\n",
    "> - **Logistic Regressions**: comparing the Odd prediction to the statistics of the match prediction\n",
    "> - **Decision Trees**: comparing the Odd prediction to the statistics of the match prediction\n",
    "\n",
    "### 5.1 Logistic Regression"
   ]
  },
  {
   "cell_type": "markdown",
   "metadata": {},
   "source": [
    "#### I. With the odds"
   ]
  },
  {
   "cell_type": "markdown",
   "metadata": {},
   "source": [
    "**Here is the 1st logistic regression for Home Team Win:**"
   ]
  },
  {
   "cell_type": "code",
   "execution_count": 119,
   "metadata": {},
   "outputs": [],
   "source": [
    "feature_names = ['B365 Home','Bet&Win Home','Interwetten Home','William Hill Home','VC Bet Home']\n",
    "\n",
    "X = np.array(data[feature_names])\n",
    "y = np.array(data[\"Match Result_H\"])"
   ]
  },
  {
   "cell_type": "code",
   "execution_count": 122,
   "metadata": {},
   "outputs": [
    {
     "data": {
      "text/plain": [
       "0.5380747126436782"
      ]
     },
     "execution_count": 122,
     "metadata": {},
     "output_type": "execute_result"
    }
   ],
   "source": [
    "1 - sum(y) / len(y)"
   ]
  },
  {
   "cell_type": "code",
   "execution_count": 123,
   "metadata": {},
   "outputs": [],
   "source": [
    "from sklearn.model_selection import train_test_split\n",
    "X_train, X_test, y_train, y_test = train_test_split(X, y, test_size=0.2, random_state=72)\n"
   ]
  },
  {
   "cell_type": "code",
   "execution_count": 127,
   "metadata": {},
   "outputs": [
    {
     "data": {
      "text/plain": [
       "0.5574162679425838"
      ]
     },
     "execution_count": 127,
     "metadata": {},
     "output_type": "execute_result"
    }
   ],
   "source": [
    "1 - sum(y_test) / len(y_test)"
   ]
  },
  {
   "cell_type": "code",
   "execution_count": 128,
   "metadata": {},
   "outputs": [],
   "source": [
    "from sklearn.linear_model import LogisticRegressionCV\n",
    "from sklearn.preprocessing import StandardScaler\n",
    "\n",
    "# logistic regression with 5 fold cross validation\n",
    "LR = LogisticRegressionCV(solver='lbfgs', cv=5, max_iter=1000, multi_class=\"multinomial\")"
   ]
  },
  {
   "cell_type": "code",
   "execution_count": 129,
   "metadata": {},
   "outputs": [
    {
     "data": {
      "text/plain": [
       "LogisticRegressionCV(Cs=10, class_weight=None, cv=5, dual=False,\n",
       "                     fit_intercept=True, intercept_scaling=1.0, l1_ratios=None,\n",
       "                     max_iter=1000, multi_class='multinomial', n_jobs=None,\n",
       "                     penalty='l2', random_state=None, refit=True, scoring=None,\n",
       "                     solver='lbfgs', tol=0.0001, verbose=0)"
      ]
     },
     "execution_count": 129,
     "metadata": {},
     "output_type": "execute_result"
    }
   ],
   "source": [
    "LR.fit(X_train,y_train)"
   ]
  },
  {
   "cell_type": "code",
   "execution_count": 130,
   "metadata": {},
   "outputs": [
    {
     "data": {
      "text/plain": [
       "array([0.05])"
      ]
     },
     "execution_count": 130,
     "metadata": {},
     "output_type": "execute_result"
    }
   ],
   "source": [
    "# best regulariser parameter\n",
    "LR.C_"
   ]
  },
  {
   "cell_type": "code",
   "execution_count": 131,
   "metadata": {},
   "outputs": [
    {
     "data": {
      "text/plain": [
       "0.6422155688622755"
      ]
     },
     "execution_count": 131,
     "metadata": {},
     "output_type": "execute_result"
    }
   ],
   "source": [
    "# train accuracy\n",
    "LR.score(X_train,y_train)"
   ]
  },
  {
   "cell_type": "code",
   "execution_count": 132,
   "metadata": {},
   "outputs": [
    {
     "data": {
      "text/plain": [
       "0.6016746411483254"
      ]
     },
     "execution_count": 132,
     "metadata": {},
     "output_type": "execute_result"
    }
   ],
   "source": [
    "# test accuracy\n",
    "LR.score(X_test, y_test)"
   ]
  },
  {
   "cell_type": "code",
   "execution_count": 133,
   "metadata": {},
   "outputs": [
    {
     "data": {
      "text/plain": [
       "array([[1209,  572],\n",
       "       [ 623,  936]], dtype=int64)"
      ]
     },
     "execution_count": 133,
     "metadata": {},
     "output_type": "execute_result"
    }
   ],
   "source": [
    "from sklearn.metrics import confusion_matrix\n",
    "confusion_matrix(y_train, LR.predict(X_train))"
   ]
  },
  {
   "cell_type": "code",
   "execution_count": 134,
   "metadata": {},
   "outputs": [
    {
     "name": "stdout",
     "output_type": "stream",
     "text": [
      "Confusion matrix, without normalization\n"
     ]
    },
    {
     "data": {
      "text/plain": [
       "<matplotlib.axes._subplots.AxesSubplot at 0x24b3b29b400>"
      ]
     },
     "execution_count": 134,
     "metadata": {},
     "output_type": "execute_result"
    },
    {
     "data": {
      "image/png": "[encoded data removed]",
      "text/plain": [
       "<Figure size 720x504 with 2 Axes>"
      ]
     },
     "metadata": {
      "needs_background": "light"
     },
     "output_type": "display_data"
    }
   ],
   "source": [
    "# Normalized confusion matrix, (code from the Lab 5.0)\n",
    "from sklearn.utils.multiclass import unique_labels\n",
    "\n",
    "y_pred = LR.predict(X_train)\n",
    "\n",
    "def plot_confusion_matrix(y_true, y_pred, classes,\n",
    "                          normalize=False,\n",
    "                          title=None,\n",
    "                          cmap=plt.cm.Reds):\n",
    "    \"\"\"\n",
    "    This function prints and plots the confusion matrix.\n",
    "    Normalization can be applied by setting `normalize=True`.\n",
    "    \"\"\"\n",
    "    if not title:\n",
    "        if normalize:\n",
    "            title = 'Normalized confusion matrix'\n",
    "        else:\n",
    "            title = 'Confusion matrix, without normalization'\n",
    "\n",
    "    # Compute confusion matrix\n",
    "    cm = confusion_matrix(y_true, y_pred)\n",
    "    # Only use the labels that appear in the data\n",
    "    classes = classes[unique_labels(y_true, y_pred)]\n",
    "    if normalize:\n",
    "        cm = cm.astype('float') / cm.sum(axis=1)[:, np.newaxis]\n",
    "        print(\"Normalized confusion matrix\")\n",
    "    else:\n",
    "        print('Confusion matrix, without normalization')\n",
    "\n",
    "#     print(cm)\n",
    "\n",
    "    fig, ax = plt.subplots(figsize=(10,7))\n",
    "    im = ax.imshow(cm, interpolation='nearest', cmap=cmap)\n",
    "    ax.figure.colorbar(im, ax=ax)\n",
    "    # We want to show all ticks...\n",
    "    ax.set(xticks=np.arange(cm.shape[1]),\n",
    "           yticks=np.arange(cm.shape[0]),\n",
    "           # ... and label them with the respective list entries\n",
    "           xticklabels=classes, yticklabels=classes,\n",
    "           title=title,\n",
    "           ylabel='True label',\n",
    "           xlabel='Predicted label')\n",
    "    plt.ylim([-0.5, 2.5])\n",
    "\n",
    "    # Rotate the tick labels and set their alignment.\n",
    "    plt.setp(ax.get_xticklabels(), rotation=45, ha=\"right\",\n",
    "             rotation_mode=\"anchor\")\n",
    "\n",
    "    # Loop over data dimensions and create text annotations.\n",
    "    fmt = '.2f' if normalize else 'd'\n",
    "    thresh = cm.max() / 2.\n",
    "    for i in range(cm.shape[0]):\n",
    "        for j in range(cm.shape[1]):\n",
    "            ax.text(j, i, format(cm[i, j], fmt),\n",
    "                    ha=\"center\", va=\"center\",\n",
    "                    color=\"white\" if cm[i, j] > thresh else \"black\")\n",
    "    fig.tight_layout();\n",
    "    \n",
    "    ax.xaxis.set_ticklabels([\"No Home Win\", \"Home Win\"])\n",
    "    ax.yaxis.set_ticklabels([\"No Home Win\", \"Home Win\"])\n",
    "    return ax\n",
    "\n",
    "\n",
    "np.set_printoptions(precision=2)\n",
    "\n",
    "\n",
    "# Plot normalized confusion matrix\n",
    "plot_confusion_matrix(y_train, y_pred, classes = y[unique_labels(y_train, y_pred)],title='Confusion matrix, with normalization')\n"
   ]
  },
  {
   "cell_type": "code",
   "execution_count": 135,
   "metadata": {},
   "outputs": [
    {
     "name": "stdout",
     "output_type": "stream",
     "text": [
      "[0.66 0.62]\n",
      "[0.68 0.6 ]\n"
     ]
    }
   ],
   "source": [
    "from sklearn.metrics import precision_score, recall_score, precision_recall_curve\n",
    "\n",
    "Precision = precision_score(y_train, y_pred, average=None)\n",
    "\n",
    "print(Precision)\n",
    "# precision (60.42% of the games were a Home win )\n",
    "\n",
    "Recall = recall_score(y_train, y_pred, average=None)\n",
    "\n",
    "\n",
    "print(Recall)\n",
    "# recall (only 75.8% of the Home wins have been correctly identified)\n"
   ]
  },
  {
   "cell_type": "markdown",
   "metadata": {},
   "source": [
    "\n",
    "**Here is the 2nd logistic regression for Draws:**"
   ]
  },
  {
   "cell_type": "code",
   "execution_count": 179,
   "metadata": {},
   "outputs": [],
   "source": [
    "feature_names = ['B365 Draw','Bet&Win Draw','Interwetten Draw','William Hill Draw','VC Bet Draw']\n",
    "\n",
    "X = np.array(data[feature_names])\n",
    "y = np.array(data[\"Match Result_D\"])"
   ]
  },
  {
   "cell_type": "code",
   "execution_count": 180,
   "metadata": {},
   "outputs": [
    {
     "data": {
      "text/plain": [
       "0.751676245210728"
      ]
     },
     "execution_count": 180,
     "metadata": {},
     "output_type": "execute_result"
    }
   ],
   "source": [
    "1 - sum(y) / len(y)"
   ]
  },
  {
   "cell_type": "code",
   "execution_count": 181,
   "metadata": {},
   "outputs": [],
   "source": [
    "from sklearn.model_selection import train_test_split\n",
    "X_train, X_test, y_train, y_test = train_test_split(X, y, test_size=0.2, random_state=72)\n"
   ]
  },
  {
   "cell_type": "code",
   "execution_count": 182,
   "metadata": {},
   "outputs": [
    {
     "data": {
      "text/plain": [
       "0.7392344497607656"
      ]
     },
     "execution_count": 182,
     "metadata": {},
     "output_type": "execute_result"
    }
   ],
   "source": [
    "1 - sum(y_test) / len(y_test)"
   ]
  },
  {
   "cell_type": "code",
   "execution_count": 183,
   "metadata": {},
   "outputs": [],
   "source": [
    "from sklearn.linear_model import LogisticRegressionCV\n",
    "from sklearn.preprocessing import StandardScaler\n",
    "\n",
    "# logistic regression with 5 fold cross validation\n",
    "LRD = LogisticRegressionCV(solver='lbfgs', cv=5, max_iter=1000, multi_class=\"multinomial\")"
   ]
  },
  {
   "cell_type": "code",
   "execution_count": 184,
   "metadata": {},
   "outputs": [
    {
     "data": {
      "text/plain": [
       "LogisticRegressionCV(Cs=10, class_weight=None, cv=5, dual=False,\n",
       "                     fit_intercept=True, intercept_scaling=1.0, l1_ratios=None,\n",
       "                     max_iter=1000, multi_class='multinomial', n_jobs=None,\n",
       "                     penalty='l2', random_state=None, refit=True, scoring=None,\n",
       "                     solver='lbfgs', tol=0.0001, verbose=0)"
      ]
     },
     "execution_count": 184,
     "metadata": {},
     "output_type": "execute_result"
    }
   ],
   "source": [
    "LRD.fit(X_train,y_train)"
   ]
  },
  {
   "cell_type": "code",
   "execution_count": 185,
   "metadata": {},
   "outputs": [
    {
     "data": {
      "text/plain": [
       "array([0.])"
      ]
     },
     "execution_count": 185,
     "metadata": {},
     "output_type": "execute_result"
    }
   ],
   "source": [
    "# best regulariser parameter\n",
    "LRD.C_"
   ]
  },
  {
   "cell_type": "code",
   "execution_count": 186,
   "metadata": {},
   "outputs": [
    {
     "data": {
      "text/plain": [
       "0.7547904191616767"
      ]
     },
     "execution_count": 186,
     "metadata": {},
     "output_type": "execute_result"
    }
   ],
   "source": [
    "# train accuracy\n",
    "LRD.score(X_train,y_train)"
   ]
  },
  {
   "cell_type": "code",
   "execution_count": 187,
   "metadata": {},
   "outputs": [
    {
     "data": {
      "text/plain": [
       "0.7392344497607656"
      ]
     },
     "execution_count": 187,
     "metadata": {},
     "output_type": "execute_result"
    }
   ],
   "source": [
    "# test accuracy\n",
    "LRD.score(X_test, y_test)"
   ]
  },
  {
   "cell_type": "code",
   "execution_count": 188,
   "metadata": {},
   "outputs": [
    {
     "data": {
      "text/plain": [
       "array([[2521,    0],\n",
       "       [ 819,    0]], dtype=int64)"
      ]
     },
     "execution_count": 188,
     "metadata": {},
     "output_type": "execute_result"
    }
   ],
   "source": [
    "from sklearn.metrics import confusion_matrix\n",
    "confusion_matrix(y_train, LRD.predict(X_train))"
   ]
  },
  {
   "cell_type": "code",
   "execution_count": 189,
   "metadata": {},
   "outputs": [
    {
     "name": "stdout",
     "output_type": "stream",
     "text": [
      "Confusion matrix, with normalization\n"
     ]
    },
    {
     "data": {
      "text/plain": [
       "<matplotlib.axes._subplots.AxesSubplot at 0x24b3c01f2e8>"
      ]
     },
     "execution_count": 189,
     "metadata": {},
     "output_type": "execute_result"
    },
    {
     "data": {
      "image/png": "[encoded data removed]",
      "text/plain": [
       "<Figure size 720x504 with 2 Axes>"
      ]
     },
     "metadata": {
      "needs_background": "light"
     },
     "output_type": "display_data"
    }
   ],
   "source": [
    "# Normalized confusion matrix, (code from the Lab 5.0)\n",
    "from sklearn.utils.multiclass import unique_labels\n",
    "\n",
    "y_pred = LRD.predict(X_train)\n",
    "\n",
    "def plot_confusion_matrix(y_true, y_pred, classes,\n",
    "                          normalize=False,\n",
    "                          title=None,\n",
    "                          cmap=plt.cm.Greens):\n",
    "    \"\"\"\n",
    "    This function prints and plots the confusion matrix.\n",
    "    Normalization can be applied by setting `normalize=True`.\n",
    "    \"\"\"\n",
    "    if not title:\n",
    "        if normalize:\n",
    "            title = 'Normalized confusion matrix'\n",
    "        else:\n",
    "            title = 'Confusion matrix, without normalization'\n",
    "\n",
    "    # Compute confusion matrix\n",
    "    cm = confusion_matrix(y_true, y_pred)\n",
    "    # Only use the labels that appear in the data\n",
    "    classes = classes[unique_labels(y_true, y_pred)]\n",
    "    if normalize:\n",
    "        cm = cm.astype('float') / cm.sum(axis=1)[:, np.newaxis]\n",
    "        print(\"Normalized confusion matrix\")\n",
    "    else:\n",
    "        print('Confusion matrix, with normalization')\n",
    "\n",
    "#     print(cm)\n",
    "\n",
    "    fig, ax = plt.subplots(figsize=(10,7))\n",
    "    im = ax.imshow(cm, interpolation='nearest', cmap=cmap)\n",
    "    ax.figure.colorbar(im, ax=ax)\n",
    "    # We want to show all ticks...\n",
    "    ax.set(xticks=np.arange(cm.shape[1]),\n",
    "           yticks=np.arange(cm.shape[0]),\n",
    "           # ... and label them with the respective list entries\n",
    "           xticklabels=classes, yticklabels=classes,\n",
    "           title=title,\n",
    "           ylabel='True label',\n",
    "           xlabel='Predicted label')\n",
    "    plt.ylim([-0.5, 2.5])\n",
    "\n",
    "    # Rotate the tick labels and set their alignment.\n",
    "    plt.setp(ax.get_xticklabels(), rotation=45, ha=\"right\",\n",
    "             rotation_mode=\"anchor\")\n",
    "\n",
    "    # Loop over data dimensions and create text annotations.\n",
    "    fmt = '.2f' if normalize else 'd'\n",
    "    thresh = cm.max() / 2.\n",
    "    for i in range(cm.shape[0]):\n",
    "        for j in range(cm.shape[1]):\n",
    "            ax.text(j, i, format(cm[i, j], fmt),\n",
    "                    ha=\"center\", va=\"center\",\n",
    "                    color=\"white\" if cm[i, j] > thresh else \"black\")\n",
    "    fig.tight_layout();\n",
    "    \n",
    "    ax.xaxis.set_ticklabels([\"No Draw\", \"Draw\"])\n",
    "    ax.yaxis.set_ticklabels([\"No Draw\", \"Draw\"])\n",
    "    return ax\n",
    "\n",
    "\n",
    "np.set_printoptions(precision=2)\n",
    "\n",
    "\n",
    "# Plot normalized confusion matrix\n",
    "plot_confusion_matrix(y_train, y_pred, classes = y[unique_labels(y_train, y_pred)],title='Confusion matrix, with normalization')\n",
    "\n"
   ]
  },
  {
   "cell_type": "markdown",
   "metadata": {},
   "source": [
    "**Here is the 3rd logistic regression for Away wins:**"
   ]
  },
  {
   "cell_type": "code",
   "execution_count": 190,
   "metadata": {},
   "outputs": [],
   "source": [
    "feature_names = ['B365 Away','Bet&Win Away','Interwetten Away','William Hill Away','VC Bet Away']\n",
    "\n",
    "X = np.array(data[feature_names])\n",
    "y = np.array(data[\"Match Result_A\"])"
   ]
  },
  {
   "cell_type": "code",
   "execution_count": 191,
   "metadata": {},
   "outputs": [],
   "source": [
    "from sklearn.model_selection import train_test_split\n",
    "X_train, X_test, y_train, y_test = train_test_split(X, y, test_size=0.2, random_state=72)"
   ]
  },
  {
   "cell_type": "code",
   "execution_count": 192,
   "metadata": {},
   "outputs": [],
   "source": [
    "from sklearn.linear_model import LogisticRegressionCV\n",
    "from sklearn.preprocessing import StandardScaler\n",
    "\n",
    "# logistic regression with 5 fold cross validation\n",
    "LRA = LogisticRegressionCV(solver='lbfgs', cv=5, max_iter=1000, multi_class=\"multinomial\")"
   ]
  },
  {
   "cell_type": "code",
   "execution_count": 193,
   "metadata": {},
   "outputs": [
    {
     "data": {
      "text/plain": [
       "LogisticRegressionCV(Cs=10, class_weight=None, cv=5, dual=False,\n",
       "                     fit_intercept=True, intercept_scaling=1.0, l1_ratios=None,\n",
       "                     max_iter=1000, multi_class='multinomial', n_jobs=None,\n",
       "                     penalty='l2', random_state=None, refit=True, scoring=None,\n",
       "                     solver='lbfgs', tol=0.0001, verbose=0)"
      ]
     },
     "execution_count": 193,
     "metadata": {},
     "output_type": "execute_result"
    }
   ],
   "source": [
    "LRA.fit(X_train,y_train)"
   ]
  },
  {
   "cell_type": "code",
   "execution_count": 194,
   "metadata": {},
   "outputs": [
    {
     "data": {
      "text/plain": [
       "array([0.])"
      ]
     },
     "execution_count": 194,
     "metadata": {},
     "output_type": "execute_result"
    }
   ],
   "source": [
    "# best regulariser parameter\n",
    "LRA.C_"
   ]
  },
  {
   "cell_type": "code",
   "execution_count": 195,
   "metadata": {},
   "outputs": [
    {
     "data": {
      "text/plain": [
       "0.7119760479041917"
      ]
     },
     "execution_count": 195,
     "metadata": {},
     "output_type": "execute_result"
    }
   ],
   "source": [
    "# train accuracy\n",
    "LRA.score(X_train,y_train)"
   ]
  },
  {
   "cell_type": "code",
   "execution_count": 196,
   "metadata": {},
   "outputs": [
    {
     "data": {
      "text/plain": [
       "0.7033492822966507"
      ]
     },
     "execution_count": 196,
     "metadata": {},
     "output_type": "execute_result"
    }
   ],
   "source": [
    "# test accuracy\n",
    "LRA.score(X_test, y_test)"
   ]
  },
  {
   "cell_type": "code",
   "execution_count": 197,
   "metadata": {},
   "outputs": [
    {
     "data": {
      "text/plain": [
       "array([[2378,    0],\n",
       "       [ 962,    0]], dtype=int64)"
      ]
     },
     "execution_count": 197,
     "metadata": {},
     "output_type": "execute_result"
    }
   ],
   "source": [
    "from sklearn.metrics import confusion_matrix\n",
    "confusion_matrix(y_train, LRA.predict(X_train))"
   ]
  },
  {
   "cell_type": "code",
   "execution_count": 198,
   "metadata": {},
   "outputs": [
    {
     "name": "stdout",
     "output_type": "stream",
     "text": [
      "Confusion matrix, with normalization\n"
     ]
    },
    {
     "data": {
      "text/plain": [
       "<matplotlib.axes._subplots.AxesSubplot at 0x24b3d747f28>"
      ]
     },
     "execution_count": 198,
     "metadata": {},
     "output_type": "execute_result"
    },
    {
     "data": {
      "image/png": "[encoded data removed]",
      "text/plain": [
       "<Figure size 720x504 with 2 Axes>"
      ]
     },
     "metadata": {
      "needs_background": "light"
     },
     "output_type": "display_data"
    }
   ],
   "source": [
    "# Normalized confusion matrix, (code from the Lab 5.0)\n",
    "from sklearn.utils.multiclass import unique_labels\n",
    "\n",
    "y_pred = LRA.predict(X_train)\n",
    "\n",
    "def plot_confusion_matrix(y_true, y_pred, classes,\n",
    "                          normalize=False,\n",
    "                          title=None,\n",
    "                          cmap=plt.cm.Blues):\n",
    "    \"\"\"\n",
    "    This function prints and plots the confusion matrix.\n",
    "    Normalization can be applied by setting `normalize=True`.\n",
    "    \"\"\"\n",
    "    if not title:\n",
    "        if normalize:\n",
    "            title = 'Normalized confusion matrix'\n",
    "        else:\n",
    "            title = 'Confusion matrix, without normalization'\n",
    "\n",
    "    # Compute confusion matrix\n",
    "    cm = confusion_matrix(y_true, y_pred)\n",
    "    # Only use the labels that appear in the data\n",
    "    classes = classes[unique_labels(y_true, y_pred)]\n",
    "    if normalize:\n",
    "        cm = cm.astype('float') / cm.sum(axis=1)[:, np.newaxis]\n",
    "        print(\"Normalized confusion matrix\")\n",
    "    else:\n",
    "        print('Confusion matrix, with normalization')\n",
    "\n",
    "#     print(cm)\n",
    "\n",
    "    fig, ax = plt.subplots(figsize=(10,7))\n",
    "    im = ax.imshow(cm, interpolation='nearest', cmap=cmap)\n",
    "    ax.figure.colorbar(im, ax=ax)\n",
    "    # We want to show all ticks...\n",
    "    ax.set(xticks=np.arange(cm.shape[1]),\n",
    "           yticks=np.arange(cm.shape[0]),\n",
    "           # ... and label them with the respective list entries\n",
    "           xticklabels=classes, yticklabels=classes,\n",
    "           title=title,\n",
    "           ylabel='True label',\n",
    "           xlabel='Predicted label')\n",
    "    plt.ylim([-0.5, 2.5])\n",
    "\n",
    "    # Rotate the tick labels and set their alignment.\n",
    "    plt.setp(ax.get_xticklabels(), rotation=45, ha=\"right\",\n",
    "             rotation_mode=\"anchor\")\n",
    "\n",
    "    # Loop over data dimensions and create text annotations.\n",
    "    fmt = '.2f' if normalize else 'd'\n",
    "    thresh = cm.max() / 2.\n",
    "    for i in range(cm.shape[0]):\n",
    "        for j in range(cm.shape[1]):\n",
    "            ax.text(j, i, format(cm[i, j], fmt),\n",
    "                    ha=\"center\", va=\"center\",\n",
    "                    color=\"white\" if cm[i, j] > thresh else \"black\")\n",
    "    fig.tight_layout();\n",
    "    \n",
    "    ax.xaxis.set_ticklabels([\"No Away win\", \"Away win\"])\n",
    "    ax.yaxis.set_ticklabels([\"No Away win\", \"Away win\"])\n",
    "    return ax\n",
    "\n",
    "\n",
    "np.set_printoptions(precision=2)\n",
    "\n",
    "\n",
    "# Plot normalized confusion matrix\n",
    "plot_confusion_matrix(y_train, y_pred, classes = y[unique_labels(y_train, y_pred)],title='Confusion matrix, with normalization')\n",
    "\n"
   ]
  },
  {
   "cell_type": "markdown",
   "metadata": {
    "scrolled": true
   },
   "source": [
    "#### II. With the Match Statistics\n",
    "\n",
    "**Logistic Regression for Home winwith statistics**\n"
   ]
  },
  {
   "cell_type": "code",
   "execution_count": 52,
   "metadata": {},
   "outputs": [],
   "source": [
    "feature_names = [\"Home ex-Rank\",\"Home Team Shots\",\"Away ex-Rank\", \"Away Team Shots\",\"Home Team Shots on Target\", \"Away Team Shots on Target\", \"Home Fouls Committed\", \"Away Fouls Committed\", \"Home Corners\", \"Away Corners\", \"Home Yellow Cards\", \"Away Yellow Cards\", \"Home Red Cards\", \"Away Red Cards\"]\n",
    "#feature_names = ['B365 Home']\n",
    "X = np.array(data[feature_names])\n",
    "y = np.array(data[\"Match Result_H\"])"
   ]
  },
  {
   "cell_type": "code",
   "execution_count": 53,
   "metadata": {},
   "outputs": [],
   "source": [
    "from sklearn.model_selection import train_test_split\n",
    "X_train, X_test, y_train, y_test = train_test_split(X, y, test_size=0.2, random_state=72)"
   ]
  },
  {
   "cell_type": "code",
   "execution_count": 54,
   "metadata": {},
   "outputs": [],
   "source": [
    "from sklearn.linear_model import LogisticRegressionCV\n",
    "from sklearn.preprocessing import StandardScaler\n",
    "\n",
    "# logistic regression with 5 fold cross validation\n",
    "LR_MS = LogisticRegressionCV(solver='lbfgs', cv=5, max_iter=1000, multi_class=\"multinomial\")"
   ]
  },
  {
   "cell_type": "code",
   "execution_count": 55,
   "metadata": {},
   "outputs": [
    {
     "data": {
      "text/plain": [
       "LogisticRegressionCV(Cs=10, class_weight=None, cv=5, dual=False,\n",
       "                     fit_intercept=True, intercept_scaling=1.0, l1_ratios=None,\n",
       "                     max_iter=1000, multi_class='multinomial', n_jobs=None,\n",
       "                     penalty='l2', random_state=None, refit=True, scoring=None,\n",
       "                     solver='lbfgs', tol=0.0001, verbose=0)"
      ]
     },
     "execution_count": 55,
     "metadata": {},
     "output_type": "execute_result"
    }
   ],
   "source": [
    "LR_MS.fit(X_train,y_train)"
   ]
  },
  {
   "cell_type": "code",
   "execution_count": 56,
   "metadata": {},
   "outputs": [
    {
     "data": {
      "text/plain": [
       "array([2.78])"
      ]
     },
     "execution_count": 56,
     "metadata": {},
     "output_type": "execute_result"
    }
   ],
   "source": [
    "# best regulariser parameter\n",
    "LR_MS.C_"
   ]
  },
  {
   "cell_type": "code",
   "execution_count": 57,
   "metadata": {},
   "outputs": [
    {
     "data": {
      "text/plain": [
       "0.7143712574850299"
      ]
     },
     "execution_count": 57,
     "metadata": {},
     "output_type": "execute_result"
    }
   ],
   "source": [
    "# train accuracy\n",
    "LR_MS.score(X_train,y_train)"
   ]
  },
  {
   "cell_type": "code",
   "execution_count": 58,
   "metadata": {},
   "outputs": [
    {
     "data": {
      "text/plain": [
       "0.6854066985645934"
      ]
     },
     "execution_count": 58,
     "metadata": {},
     "output_type": "execute_result"
    }
   ],
   "source": [
    "# test accuracy\n",
    "LR_MS.score(X_test, y_test)"
   ]
  },
  {
   "cell_type": "markdown",
   "metadata": {},
   "source": [
    "**Logistic Regression for Draws with statistics**"
   ]
  },
  {
   "cell_type": "code",
   "execution_count": 59,
   "metadata": {},
   "outputs": [],
   "source": [
    "feature_names = [\"Home ex-Rank\",\"Home Team Shots\",\"Away ex-Rank\", \"Away Team Shots\",\"Home Team Shots on Target\", \"Away Team Shots on Target\", \"Home Fouls Committed\", \"Away Fouls Committed\", \"Home Corners\", \"Away Corners\", \"Home Yellow Cards\", \"Away Yellow Cards\"]\n",
    "#feature_names = ['B365 Home']\n",
    "X = np.array(data[feature_names])\n",
    "y = np.array(data[\"Match Result_D\"])"
   ]
  },
  {
   "cell_type": "code",
   "execution_count": 60,
   "metadata": {},
   "outputs": [],
   "source": [
    "from sklearn.model_selection import train_test_split\n",
    "X_train, X_test, y_train, y_test = train_test_split(X, y, test_size=0.2, random_state=72)"
   ]
  },
  {
   "cell_type": "code",
   "execution_count": 61,
   "metadata": {},
   "outputs": [],
   "source": [
    "from sklearn.linear_model import LogisticRegressionCV\n",
    "from sklearn.preprocessing import StandardScaler\n",
    "\n",
    "# logistic regression with 5 fold cross validation\n",
    "LR_MSD = LogisticRegressionCV(solver='lbfgs', cv=5, max_iter=1000, multi_class=\"multinomial\")"
   ]
  },
  {
   "cell_type": "code",
   "execution_count": 62,
   "metadata": {},
   "outputs": [
    {
     "data": {
      "text/plain": [
       "LogisticRegressionCV(Cs=10, class_weight=None, cv=5, dual=False,\n",
       "                     fit_intercept=True, intercept_scaling=1.0, l1_ratios=None,\n",
       "                     max_iter=1000, multi_class='multinomial', n_jobs=None,\n",
       "                     penalty='l2', random_state=None, refit=True, scoring=None,\n",
       "                     solver='lbfgs', tol=0.0001, verbose=0)"
      ]
     },
     "execution_count": 62,
     "metadata": {},
     "output_type": "execute_result"
    }
   ],
   "source": [
    "LR_MSD.fit(X_train,y_train)"
   ]
  },
  {
   "cell_type": "code",
   "execution_count": 63,
   "metadata": {},
   "outputs": [
    {
     "data": {
      "text/plain": [
       "array([0.01])"
      ]
     },
     "execution_count": 63,
     "metadata": {},
     "output_type": "execute_result"
    }
   ],
   "source": [
    "# best regulariser parameter\n",
    "LR_MSD.C_"
   ]
  },
  {
   "cell_type": "code",
   "execution_count": 64,
   "metadata": {},
   "outputs": [
    {
     "data": {
      "text/plain": [
       "0.7550898203592814"
      ]
     },
     "execution_count": 64,
     "metadata": {},
     "output_type": "execute_result"
    }
   ],
   "source": [
    "# train accuracy\n",
    "LR_MSD.score(X_train,y_train)"
   ]
  },
  {
   "cell_type": "code",
   "execution_count": 65,
   "metadata": {},
   "outputs": [
    {
     "data": {
      "text/plain": [
       "0.7380382775119617"
      ]
     },
     "execution_count": 65,
     "metadata": {},
     "output_type": "execute_result"
    }
   ],
   "source": [
    "# test accuracy\n",
    "LR_MSD.score(X_test, y_test)"
   ]
  },
  {
   "cell_type": "markdown",
   "metadata": {},
   "source": [
    "**Logistic Regression for Away win with statistics**"
   ]
  },
  {
   "cell_type": "code",
   "execution_count": 66,
   "metadata": {},
   "outputs": [],
   "source": [
    "feature_names = [\"Home ex-Rank\",\"Home Team Shots\",\"Away ex-Rank\", \"Away Team Shots\",\"Home Team Shots on Target\", \"Away Team Shots on Target\", \"Home Fouls Committed\", \"Away Fouls Committed\", \"Home Corners\", \"Away Corners\", \"Home Yellow Cards\", \"Away Yellow Cards\", \"Home Red Cards\", \"Away Red Cards\"]\n",
    "#feature_names = ['B365 Home']\n",
    "X = np.array(data[feature_names])\n",
    "y = np.array(data[\"Match Result_A\"])"
   ]
  },
  {
   "cell_type": "code",
   "execution_count": 67,
   "metadata": {},
   "outputs": [],
   "source": [
    "from sklearn.model_selection import train_test_split\n",
    "X_train, X_test, y_train, y_test = train_test_split(X, y, test_size=0.2, random_state=72)"
   ]
  },
  {
   "cell_type": "code",
   "execution_count": 68,
   "metadata": {},
   "outputs": [],
   "source": [
    "from sklearn.linear_model import LogisticRegressionCV\n",
    "from sklearn.preprocessing import StandardScaler\n",
    "\n",
    "# logistic regression with 5 fold cross validation\n",
    "LR_MSA = LogisticRegressionCV(solver='lbfgs', cv=5, max_iter=1000, multi_class=\"multinomial\")"
   ]
  },
  {
   "cell_type": "code",
   "execution_count": 69,
   "metadata": {},
   "outputs": [
    {
     "data": {
      "text/plain": [
       "LogisticRegressionCV(Cs=10, class_weight=None, cv=5, dual=False,\n",
       "                     fit_intercept=True, intercept_scaling=1.0, l1_ratios=None,\n",
       "                     max_iter=1000, multi_class='multinomial', n_jobs=None,\n",
       "                     penalty='l2', random_state=None, refit=True, scoring=None,\n",
       "                     solver='lbfgs', tol=0.0001, verbose=0)"
      ]
     },
     "execution_count": 69,
     "metadata": {},
     "output_type": "execute_result"
    }
   ],
   "source": [
    "LR_MSA.fit(X_train,y_train)"
   ]
  },
  {
   "cell_type": "code",
   "execution_count": 70,
   "metadata": {},
   "outputs": [
    {
     "data": {
      "text/plain": [
       "array([0.05])"
      ]
     },
     "execution_count": 70,
     "metadata": {},
     "output_type": "execute_result"
    }
   ],
   "source": [
    "# best regulariser parameter\n",
    "LR_MSA.C_"
   ]
  },
  {
   "cell_type": "code",
   "execution_count": 71,
   "metadata": {},
   "outputs": [
    {
     "data": {
      "text/plain": [
       "0.7778443113772455"
      ]
     },
     "execution_count": 71,
     "metadata": {},
     "output_type": "execute_result"
    }
   ],
   "source": [
    "# train accuracy\n",
    "LR_MSA.score(X_train,y_train)"
   ]
  },
  {
   "cell_type": "code",
   "execution_count": 72,
   "metadata": {},
   "outputs": [
    {
     "data": {
      "text/plain": [
       "0.7595693779904307"
      ]
     },
     "execution_count": 72,
     "metadata": {},
     "output_type": "execute_result"
    }
   ],
   "source": [
    "# test accuracy\n",
    "LR_MSA.score(X_test, y_test)"
   ]
  },
  {
   "cell_type": "markdown",
   "metadata": {},
   "source": [
    "### 5.2 Decision Trees\n",
    "\n",
    "#### I. With the Odds\n",
    "\n",
    "**Decision Tree for Home win**"
   ]
  },
  {
   "cell_type": "code",
   "execution_count": 73,
   "metadata": {},
   "outputs": [],
   "source": [
    "from sklearn.tree import DecisionTreeClassifier"
   ]
  },
  {
   "cell_type": "code",
   "execution_count": 74,
   "metadata": {},
   "outputs": [],
   "source": [
    "feature_names = ['B365 Home','Bet&Win Home','Interwetten Home','William Hill Home','VC Bet Home']\n",
    "\n",
    "X = data[feature_names]\n",
    "y = data[\"Match Result_H\"]\n"
   ]
  },
  {
   "cell_type": "code",
   "execution_count": 75,
   "metadata": {},
   "outputs": [],
   "source": [
    "\n",
    "from sklearn.model_selection import train_test_split\n",
    "X_train, X_test, y_train, y_test = train_test_split(X, y, test_size=0.2, random_state=72)"
   ]
  },
  {
   "cell_type": "code",
   "execution_count": 76,
   "metadata": {},
   "outputs": [],
   "source": [
    "clf = DecisionTreeClassifier(criterion='entropy')"
   ]
  },
  {
   "cell_type": "code",
   "execution_count": 77,
   "metadata": {},
   "outputs": [
    {
     "data": {
      "text/plain": [
       "DecisionTreeClassifier(class_weight=None, criterion='entropy', max_depth=None,\n",
       "                       max_features=None, max_leaf_nodes=None,\n",
       "                       min_impurity_decrease=0.0, min_impurity_split=None,\n",
       "                       min_samples_leaf=1, min_samples_split=2,\n",
       "                       min_weight_fraction_leaf=0.0, presort=False,\n",
       "                       random_state=None, splitter='best')"
      ]
     },
     "execution_count": 77,
     "metadata": {},
     "output_type": "execute_result"
    }
   ],
   "source": [
    "clf.fit(X_train, y_train)"
   ]
  },
  {
   "cell_type": "code",
   "execution_count": 78,
   "metadata": {},
   "outputs": [
    {
     "data": {
      "text/plain": [
       "0.5311004784688995"
      ]
     },
     "execution_count": 78,
     "metadata": {},
     "output_type": "execute_result"
    }
   ],
   "source": [
    "# test accuracy\n",
    "clf.score(X_test,y_test)"
   ]
  },
  {
   "cell_type": "code",
   "execution_count": 79,
   "metadata": {},
   "outputs": [
    {
     "data": {
      "text/plain": [
       "44"
      ]
     },
     "execution_count": 79,
     "metadata": {},
     "output_type": "execute_result"
    }
   ],
   "source": [
    "# depth of the decision tree\n",
    "clf.get_depth()"
   ]
  },
  {
   "cell_type": "markdown",
   "metadata": {},
   "source": [
    "**Decision Tree for Draw**"
   ]
  },
  {
   "cell_type": "code",
   "execution_count": 80,
   "metadata": {},
   "outputs": [],
   "source": [
    "feature_namesD = ['B365 Draw','Bet&Win Draw','Interwetten Draw','William Hill Draw','VC Bet Draw']\n",
    "\n",
    "X = data[feature_names]\n",
    "y = data[\"Match Result_D\"]\n"
   ]
  },
  {
   "cell_type": "code",
   "execution_count": 81,
   "metadata": {},
   "outputs": [],
   "source": [
    "\n",
    "from sklearn.model_selection import train_test_split\n",
    "X_train, X_test, y_train, y_test = train_test_split(X, y, test_size=0.2, random_state=72)"
   ]
  },
  {
   "cell_type": "code",
   "execution_count": 82,
   "metadata": {},
   "outputs": [],
   "source": [
    "clfD = DecisionTreeClassifier(criterion='entropy')"
   ]
  },
  {
   "cell_type": "code",
   "execution_count": 83,
   "metadata": {},
   "outputs": [
    {
     "data": {
      "text/plain": [
       "DecisionTreeClassifier(class_weight=None, criterion='entropy', max_depth=None,\n",
       "                       max_features=None, max_leaf_nodes=None,\n",
       "                       min_impurity_decrease=0.0, min_impurity_split=None,\n",
       "                       min_samples_leaf=1, min_samples_split=2,\n",
       "                       min_weight_fraction_leaf=0.0, presort=False,\n",
       "                       random_state=None, splitter='best')"
      ]
     },
     "execution_count": 83,
     "metadata": {},
     "output_type": "execute_result"
    }
   ],
   "source": [
    "clfD.fit(X_train, y_train)"
   ]
  },
  {
   "cell_type": "code",
   "execution_count": 84,
   "metadata": {},
   "outputs": [
    {
     "data": {
      "text/plain": [
       "0.6136363636363636"
      ]
     },
     "execution_count": 84,
     "metadata": {},
     "output_type": "execute_result"
    }
   ],
   "source": [
    "# test accuracy\n",
    "clfD.score(X_test,y_test)"
   ]
  },
  {
   "cell_type": "markdown",
   "metadata": {},
   "source": [
    "**Decision Tree for Away win**"
   ]
  },
  {
   "cell_type": "code",
   "execution_count": 85,
   "metadata": {},
   "outputs": [],
   "source": [
    "feature_namesA = ['B365 Away','Bet&Win Away','Interwetten Away','William Hill Away','VC Bet Away']\n",
    "\n",
    "X = data[feature_names]\n",
    "y = data[\"Match Result_A\"]\n"
   ]
  },
  {
   "cell_type": "code",
   "execution_count": 86,
   "metadata": {},
   "outputs": [],
   "source": [
    "\n",
    "from sklearn.model_selection import train_test_split\n",
    "X_train, X_test, y_train, y_test = train_test_split(X, y, test_size=0.2, random_state=72)"
   ]
  },
  {
   "cell_type": "code",
   "execution_count": 87,
   "metadata": {},
   "outputs": [],
   "source": [
    "clfA = DecisionTreeClassifier(criterion='entropy')"
   ]
  },
  {
   "cell_type": "code",
   "execution_count": 88,
   "metadata": {},
   "outputs": [
    {
     "data": {
      "text/plain": [
       "DecisionTreeClassifier(class_weight=None, criterion='entropy', max_depth=None,\n",
       "                       max_features=None, max_leaf_nodes=None,\n",
       "                       min_impurity_decrease=0.0, min_impurity_split=None,\n",
       "                       min_samples_leaf=1, min_samples_split=2,\n",
       "                       min_weight_fraction_leaf=0.0, presort=False,\n",
       "                       random_state=None, splitter='best')"
      ]
     },
     "execution_count": 88,
     "metadata": {},
     "output_type": "execute_result"
    }
   ],
   "source": [
    "clfA.fit(X_train, y_train)"
   ]
  },
  {
   "cell_type": "code",
   "execution_count": 89,
   "metadata": {},
   "outputs": [
    {
     "data": {
      "text/plain": [
       "0.6447368421052632"
      ]
     },
     "execution_count": 89,
     "metadata": {},
     "output_type": "execute_result"
    }
   ],
   "source": [
    "# test accuracy\n",
    "clfA.score(X_test,y_test)"
   ]
  },
  {
   "cell_type": "code",
   "execution_count": 90,
   "metadata": {
    "scrolled": true
   },
   "outputs": [
    {
     "data": {
      "text/plain": [
       "35"
      ]
     },
     "execution_count": 90,
     "metadata": {},
     "output_type": "execute_result"
    }
   ],
   "source": [
    "# depth of the decision tree\n",
    "clfD.get_depth()"
   ]
  },
  {
   "cell_type": "code",
   "execution_count": 91,
   "metadata": {
    "scrolled": false
   },
   "outputs": [
    {
     "data": {
      "text/plain": [
       "33"
      ]
     },
     "execution_count": 91,
     "metadata": {},
     "output_type": "execute_result"
    }
   ],
   "source": [
    "# depth of the decision tree\n",
    "clfA.get_depth()"
   ]
  },
  {
   "cell_type": "markdown",
   "metadata": {},
   "source": [
    "#### II. With the Match Statistics"
   ]
  },
  {
   "cell_type": "markdown",
   "metadata": {},
   "source": [
    "**Match Statistics for Home win**"
   ]
  },
  {
   "cell_type": "code",
   "execution_count": 92,
   "metadata": {},
   "outputs": [],
   "source": [
    "feature_names = ['Home ex-Rank', 'Home Team Shots', 'Away ex-Rank', 'Away Team Shots', 'Home Team Shots on Target', 'Away Team Shots on Target', 'Home Fouls Committed', 'Away Fouls Committed', 'Home Corners', 'Away Corners', 'Home Yellow Cards', 'Away Yellow Cards', 'Home Red Cards', 'Away Red Cards']\n",
    "\n",
    "X = np.array(data[feature_names])\n",
    "y = np.array(data[\"Match Result_H\"])"
   ]
  },
  {
   "cell_type": "code",
   "execution_count": 93,
   "metadata": {},
   "outputs": [],
   "source": [
    "\n",
    "from sklearn.model_selection import train_test_split\n",
    "X_train, X_test, y_train, y_test = train_test_split(X, y, test_size=0.2, random_state=72)"
   ]
  },
  {
   "cell_type": "code",
   "execution_count": 94,
   "metadata": {},
   "outputs": [],
   "source": [
    "clfM = DecisionTreeClassifier(criterion='entropy')"
   ]
  },
  {
   "cell_type": "code",
   "execution_count": 95,
   "metadata": {},
   "outputs": [
    {
     "data": {
      "text/plain": [
       "DecisionTreeClassifier(class_weight=None, criterion='entropy', max_depth=None,\n",
       "                       max_features=None, max_leaf_nodes=None,\n",
       "                       min_impurity_decrease=0.0, min_impurity_split=None,\n",
       "                       min_samples_leaf=1, min_samples_split=2,\n",
       "                       min_weight_fraction_leaf=0.0, presort=False,\n",
       "                       random_state=None, splitter='best')"
      ]
     },
     "execution_count": 95,
     "metadata": {},
     "output_type": "execute_result"
    }
   ],
   "source": [
    "clfM.fit(X_train, y_train)"
   ]
  },
  {
   "cell_type": "code",
   "execution_count": 96,
   "metadata": {},
   "outputs": [
    {
     "data": {
      "text/plain": [
       "0.5813397129186603"
      ]
     },
     "execution_count": 96,
     "metadata": {},
     "output_type": "execute_result"
    }
   ],
   "source": [
    "# test accuracy\n",
    "clfM.score(X_test,y_test)"
   ]
  },
  {
   "cell_type": "code",
   "execution_count": 97,
   "metadata": {},
   "outputs": [
    {
     "data": {
      "text/plain": [
       "24"
      ]
     },
     "execution_count": 97,
     "metadata": {},
     "output_type": "execute_result"
    }
   ],
   "source": [
    "# depth of the decision tree\n",
    "clfM.get_depth()"
   ]
  },
  {
   "cell_type": "markdown",
   "metadata": {},
   "source": [
    "**Match Statistics for Draw**"
   ]
  },
  {
   "cell_type": "code",
   "execution_count": 98,
   "metadata": {},
   "outputs": [],
   "source": [
    "feature_names = ['Home ex-Rank', 'Home Team Shots', 'Away ex-Rank', 'Away Team Shots', 'Home Team Shots on Target', 'Away Team Shots on Target', 'Home Fouls Committed', 'Away Fouls Committed', 'Home Corners', 'Away Corners', 'Home Yellow Cards', 'Away Yellow Cards', 'Home Red Cards', 'Away Red Cards']\n",
    "\n",
    "X = np.array(data[feature_names])\n",
    "y = np.array(data[\"Match Result_D\"])"
   ]
  },
  {
   "cell_type": "code",
   "execution_count": 99,
   "metadata": {},
   "outputs": [],
   "source": [
    "\n",
    "from sklearn.model_selection import train_test_split\n",
    "X_train, X_test, y_train, y_test = train_test_split(X, y, test_size=0.2, random_state=72)"
   ]
  },
  {
   "cell_type": "code",
   "execution_count": 100,
   "metadata": {},
   "outputs": [],
   "source": [
    "clfMD = DecisionTreeClassifier(criterion='entropy')"
   ]
  },
  {
   "cell_type": "code",
   "execution_count": 101,
   "metadata": {},
   "outputs": [
    {
     "data": {
      "text/plain": [
       "DecisionTreeClassifier(class_weight=None, criterion='entropy', max_depth=None,\n",
       "                       max_features=None, max_leaf_nodes=None,\n",
       "                       min_impurity_decrease=0.0, min_impurity_split=None,\n",
       "                       min_samples_leaf=1, min_samples_split=2,\n",
       "                       min_weight_fraction_leaf=0.0, presort=False,\n",
       "                       random_state=None, splitter='best')"
      ]
     },
     "execution_count": 101,
     "metadata": {},
     "output_type": "execute_result"
    }
   ],
   "source": [
    "clfMD.fit(X_train, y_train)"
   ]
  },
  {
   "cell_type": "code",
   "execution_count": 102,
   "metadata": {},
   "outputs": [
    {
     "data": {
      "text/plain": [
       "0.6160287081339713"
      ]
     },
     "execution_count": 102,
     "metadata": {},
     "output_type": "execute_result"
    }
   ],
   "source": [
    "# test accuracy\n",
    "clfMD.score(X_test,y_test)"
   ]
  },
  {
   "cell_type": "code",
   "execution_count": 103,
   "metadata": {},
   "outputs": [
    {
     "data": {
      "text/plain": [
       "34"
      ]
     },
     "execution_count": 103,
     "metadata": {},
     "output_type": "execute_result"
    }
   ],
   "source": [
    "# depth of the decision tree\n",
    "clfMD.get_depth()"
   ]
  },
  {
   "cell_type": "markdown",
   "metadata": {},
   "source": [
    "**Match Statistics for Away**"
   ]
  },
  {
   "cell_type": "code",
   "execution_count": 104,
   "metadata": {},
   "outputs": [],
   "source": [
    "feature_names = ['Home ex-Rank', 'Home Team Shots', 'Away ex-Rank', 'Away Team Shots', 'Home Team Shots on Target', 'Away Team Shots on Target', 'Home Fouls Committed', 'Away Fouls Committed', 'Home Corners', 'Away Corners', 'Home Yellow Cards', 'Away Yellow Cards', 'Home Red Cards', 'Away Red Cards']\n",
    "\n",
    "X = np.array(data[feature_names])\n",
    "y = np.array(data[\"Match Result_A\"])"
   ]
  },
  {
   "cell_type": "code",
   "execution_count": 105,
   "metadata": {},
   "outputs": [],
   "source": [
    "\n",
    "from sklearn.model_selection import train_test_split\n",
    "X_train, X_test, y_train, y_test = train_test_split(X, y, test_size=0.2, random_state=72)"
   ]
  },
  {
   "cell_type": "code",
   "execution_count": 106,
   "metadata": {},
   "outputs": [],
   "source": [
    "clfMA = DecisionTreeClassifier(criterion='entropy')"
   ]
  },
  {
   "cell_type": "code",
   "execution_count": 107,
   "metadata": {},
   "outputs": [
    {
     "data": {
      "text/plain": [
       "DecisionTreeClassifier(class_weight=None, criterion='entropy', max_depth=None,\n",
       "                       max_features=None, max_leaf_nodes=None,\n",
       "                       min_impurity_decrease=0.0, min_impurity_split=None,\n",
       "                       min_samples_leaf=1, min_samples_split=2,\n",
       "                       min_weight_fraction_leaf=0.0, presort=False,\n",
       "                       random_state=None, splitter='best')"
      ]
     },
     "execution_count": 107,
     "metadata": {},
     "output_type": "execute_result"
    }
   ],
   "source": [
    "clfMA.fit(X_train, y_train)"
   ]
  },
  {
   "cell_type": "code",
   "execution_count": 108,
   "metadata": {},
   "outputs": [
    {
     "data": {
      "text/plain": [
       "0.6913875598086124"
      ]
     },
     "execution_count": 108,
     "metadata": {},
     "output_type": "execute_result"
    }
   ],
   "source": [
    "# test accuracy\n",
    "clfMA.score(X_test,y_test)"
   ]
  },
  {
   "cell_type": "code",
   "execution_count": 109,
   "metadata": {},
   "outputs": [
    {
     "data": {
      "text/plain": [
       "23"
      ]
     },
     "execution_count": 109,
     "metadata": {},
     "output_type": "execute_result"
    }
   ],
   "source": [
    "# depth of the decision tree\n",
    "clfMA.get_depth()"
   ]
  },
  {
   "cell_type": "code",
   "execution_count": null,
   "metadata": {},
   "outputs": [],
   "source": []
  }
 ],
 "metadata": {
  "colab": {
   "name": "test.ipynb",
   "provenance": []
  },
  "kernelspec": {
   "display_name": "Python 3",
   "language": "python",
   "name": "python3"
  },
  "language_info": {
   "codemirror_mode": {
    "name": "ipython",
    "version": 3
   },
   "file_extension": ".py",
   "mimetype": "text/x-python",
   "name": "python",
   "nbconvert_exporter": "python",
   "pygments_lexer": "ipython3",
   "version": "3.7.3"
  }
 },
 "nbformat": 4,
 "nbformat_minor": 1
}
