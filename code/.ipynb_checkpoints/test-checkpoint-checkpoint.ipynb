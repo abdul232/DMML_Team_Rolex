{
 "cells": [
  {
   "cell_type": "markdown",
   "metadata": {},
   "source": [
    "# Betting strategies \n",
    "## _England Premiere League Results & Odds Dataset_\n",
    "\n",
    "### I. Introduction\n",
    "\n",
    "> You do not know anything about sports betting or you want to implement a new strategy? This notebook will help you understand this world, and also provide you a **betting strategy** that you will be able to apply on your own.\n",
    "\n",
    "In this report, we will take the example of Football, the sport with the highest number of bets. More precisely, we will concentrate on **England Premiere League results**, because its great number of matches will allow us to test and build a strong strategy. \n",
    "\n",
    "The dataset we chose groups the results of these matches since 2008 with data like date time, Home team/Away team, the goals, the match result, the referee for the match etc. There are also odds set on matches' results or number of goals, taken from different betting sites. For more explanations on betting vocabulary, read the following chapter."
   ]
  },
  {
   "cell_type": "code",
<<<<<<< HEAD
   "execution_count": null,
=======
   "execution_count": 1,
>>>>>>> 1cd40dd9acff9c54f8e6b8997244900ac922d211
   "metadata": {
    "colab": {
     "base_uri": "https://localhost:8080/",
     "height": 51
    },
    "colab_type": "code",
    "executionInfo": {
     "elapsed": 622,
     "status": "ok",
     "timestamp": 1574259749449,
     "user": {
      "displayName": "Abdoo Aloraib",
      "photoUrl": "https://lh3.googleusercontent.com/a-/AAuE7mCUO9oHDV-z7IuSjn4Tf1zgFORfDmiFylWCNgAY=s64",
      "userId": "10713939061096290051"
     },
     "user_tz": -60
    },
    "id": "Lnz2cec4L-rj",
    "outputId": "e04a0661-4935-4981-d25b-76c201d7cf5a",
    "scrolled": true
   },
   "outputs": [],
   "source": [
    "# Useful starting lines\n",
    "%matplotlib inline\n",
    "import numpy as np\n",
    "import matplotlib.pyplot as plt\n",
    "from matplotlib import collections  as mc\n",
    "%load_ext autoreload\n",
    "%autoreload 2\n",
    "import pandas as pd \n",
    "import seaborn as sns\n",
    "from sklearn.preprocessing import LabelEncoder, OneHotEncoder\n",
    "sns.set_style(\"white\")"
   ]
  },
  {
   "cell_type": "code",
<<<<<<< HEAD
   "execution_count": null,
=======
   "execution_count": 5,
>>>>>>> 1cd40dd9acff9c54f8e6b8997244900ac922d211
   "metadata": {
    "colab": {
     "base_uri": "https://localhost:8080/",
     "height": 1000
    },
    "colab_type": "code",
    "executionInfo": {
     "elapsed": 826,
     "status": "ok",
     "timestamp": 1574259812216,
     "user": {
      "displayName": "Abdoo Aloraib",
      "photoUrl": "https://lh3.googleusercontent.com/a-/AAuE7mCUO9oHDV-z7IuSjn4Tf1zgFORfDmiFylWCNgAY=s64",
      "userId": "10713939061096290051"
     },
     "user_tz": -60
    },
    "id": "imYCkCGmMNIw",
    "outputId": "a9c39db3-798c-4d3d-d073-a62a7c8b71d4",
    "scrolled": true
   },
<<<<<<< HEAD
   "outputs": [],
=======
   "outputs": [
    {
     "data": {
      "text/html": [
       "<div>\n",
       "<style scoped>\n",
       "    .dataframe tbody tr th:only-of-type {\n",
       "        vertical-align: middle;\n",
       "    }\n",
       "\n",
       "    .dataframe tbody tr th {\n",
       "        vertical-align: top;\n",
       "    }\n",
       "\n",
       "    .dataframe thead th {\n",
       "        text-align: right;\n",
       "    }\n",
       "</style>\n",
       "<table border=\"1\" class=\"dataframe\">\n",
       "  <thead>\n",
       "    <tr style=\"text-align: right;\">\n",
       "      <th></th>\n",
       "      <th>Match_ID</th>\n",
       "      <th>Date</th>\n",
       "      <th>HomeTeam</th>\n",
       "      <th>AwayTeam</th>\n",
       "      <th>Home Team Goals</th>\n",
       "      <th>Away Team Goals</th>\n",
       "      <th>Match Result</th>\n",
       "      <th>Referee</th>\n",
       "      <th>Home Team Shots</th>\n",
       "      <th>Away Team Shots</th>\n",
       "      <th>...</th>\n",
       "      <th>Betbrain Average Home</th>\n",
       "      <th>Betbrain Maximum Draw</th>\n",
       "      <th>Betbrain Average Draw</th>\n",
       "      <th>Betbrain Maximum Away</th>\n",
       "      <th>Betbrain Average Away</th>\n",
       "      <th>Betbrain Numbers of bookmakers Goals</th>\n",
       "      <th>Betbrain Max &gt; 2.5 Goals</th>\n",
       "      <th>Betbrain Average &gt; 2.5 Goals</th>\n",
       "      <th>Betbrain Max &lt; 2.5 Goals</th>\n",
       "      <th>Betbrain Average &lt; 2.5 Goals</th>\n",
       "    </tr>\n",
       "  </thead>\n",
       "  <tbody>\n",
       "    <tr>\n",
       "      <th>0</th>\n",
       "      <td>1.0</td>\n",
       "      <td>16.08.2008</td>\n",
       "      <td>Arsenal</td>\n",
       "      <td>West Brom</td>\n",
       "      <td>1.0</td>\n",
       "      <td>0.0</td>\n",
       "      <td>H</td>\n",
       "      <td>H Webb</td>\n",
       "      <td>24.0</td>\n",
       "      <td>5.0</td>\n",
       "      <td>...</td>\n",
       "      <td>1.22</td>\n",
       "      <td>6.25</td>\n",
       "      <td>5.60</td>\n",
       "      <td>17.00</td>\n",
       "      <td>13.52</td>\n",
       "      <td>37.0</td>\n",
       "      <td>1.71</td>\n",
       "      <td>1.65</td>\n",
       "      <td>2.25</td>\n",
       "      <td>2.14</td>\n",
       "    </tr>\n",
       "    <tr>\n",
       "      <th>1</th>\n",
       "      <td>2.0</td>\n",
       "      <td>16.08.2008</td>\n",
       "      <td>Bolton</td>\n",
       "      <td>Stoke</td>\n",
       "      <td>3.0</td>\n",
       "      <td>1.0</td>\n",
       "      <td>H</td>\n",
       "      <td>C Foy</td>\n",
       "      <td>14.0</td>\n",
       "      <td>8.0</td>\n",
       "      <td>...</td>\n",
       "      <td>1.81</td>\n",
       "      <td>3.51</td>\n",
       "      <td>3.35</td>\n",
       "      <td>5.30</td>\n",
       "      <td>4.54</td>\n",
       "      <td>37.0</td>\n",
       "      <td>2.33</td>\n",
       "      <td>2.16</td>\n",
       "      <td>1.70</td>\n",
       "      <td>1.64</td>\n",
       "    </tr>\n",
       "    <tr>\n",
       "      <th>2</th>\n",
       "      <td>3.0</td>\n",
       "      <td>16.08.2008</td>\n",
       "      <td>Everton</td>\n",
       "      <td>Blackburn</td>\n",
       "      <td>2.0</td>\n",
       "      <td>3.0</td>\n",
       "      <td>A</td>\n",
       "      <td>A Marriner</td>\n",
       "      <td>10.0</td>\n",
       "      <td>15.0</td>\n",
       "      <td>...</td>\n",
       "      <td>1.98</td>\n",
       "      <td>3.39</td>\n",
       "      <td>3.25</td>\n",
       "      <td>4.21</td>\n",
       "      <td>3.86</td>\n",
       "      <td>37.0</td>\n",
       "      <td>2.34</td>\n",
       "      <td>2.17</td>\n",
       "      <td>1.70</td>\n",
       "      <td>1.63</td>\n",
       "    </tr>\n",
       "    <tr>\n",
       "      <th>3</th>\n",
       "      <td>4.0</td>\n",
       "      <td>16.08.2008</td>\n",
       "      <td>Hull</td>\n",
       "      <td>Fulham</td>\n",
       "      <td>2.0</td>\n",
       "      <td>1.0</td>\n",
       "      <td>H</td>\n",
       "      <td>P Walton</td>\n",
       "      <td>11.0</td>\n",
       "      <td>12.0</td>\n",
       "      <td>...</td>\n",
       "      <td>2.56</td>\n",
       "      <td>3.38</td>\n",
       "      <td>3.23</td>\n",
       "      <td>2.89</td>\n",
       "      <td>2.68</td>\n",
       "      <td>37.0</td>\n",
       "      <td>2.32</td>\n",
       "      <td>2.15</td>\n",
       "      <td>1.69</td>\n",
       "      <td>1.64</td>\n",
       "    </tr>\n",
       "    <tr>\n",
       "      <th>4</th>\n",
       "      <td>5.0</td>\n",
       "      <td>16.08.2008</td>\n",
       "      <td>Middlesbrough</td>\n",
       "      <td>Tottenham</td>\n",
       "      <td>2.0</td>\n",
       "      <td>1.0</td>\n",
       "      <td>H</td>\n",
       "      <td>M Atkinson</td>\n",
       "      <td>14.0</td>\n",
       "      <td>8.0</td>\n",
       "      <td>...</td>\n",
       "      <td>3.19</td>\n",
       "      <td>3.55</td>\n",
       "      <td>3.31</td>\n",
       "      <td>2.30</td>\n",
       "      <td>2.20</td>\n",
       "      <td>37.0</td>\n",
       "      <td>1.90</td>\n",
       "      <td>1.81</td>\n",
       "      <td>2.12</td>\n",
       "      <td>1.92</td>\n",
       "    </tr>\n",
       "  </tbody>\n",
       "</table>\n",
       "<p>5 rows × 47 columns</p>\n",
       "</div>"
      ],
      "text/plain": [
       "   Match_ID        Date       HomeTeam   AwayTeam  Home Team Goals  \\\n",
       "0       1.0  16.08.2008        Arsenal  West Brom              1.0   \n",
       "1       2.0  16.08.2008         Bolton      Stoke              3.0   \n",
       "2       3.0  16.08.2008        Everton  Blackburn              2.0   \n",
       "3       4.0  16.08.2008           Hull     Fulham              2.0   \n",
       "4       5.0  16.08.2008  Middlesbrough  Tottenham              2.0   \n",
       "\n",
       "   Away Team Goals Match Result     Referee  Home Team Shots  Away Team Shots  \\\n",
       "0              0.0            H      H Webb             24.0              5.0   \n",
       "1              1.0            H       C Foy             14.0              8.0   \n",
       "2              3.0            A  A Marriner             10.0             15.0   \n",
       "3              1.0            H    P Walton             11.0             12.0   \n",
       "4              1.0            H  M Atkinson             14.0              8.0   \n",
       "\n",
       "   ...  Betbrain Average Home  Betbrain Maximum Draw  Betbrain Average Draw  \\\n",
       "0  ...                   1.22                   6.25                   5.60   \n",
       "1  ...                   1.81                   3.51                   3.35   \n",
       "2  ...                   1.98                   3.39                   3.25   \n",
       "3  ...                   2.56                   3.38                   3.23   \n",
       "4  ...                   3.19                   3.55                   3.31   \n",
       "\n",
       "   Betbrain Maximum Away  Betbrain Average Away  \\\n",
       "0                  17.00                  13.52   \n",
       "1                   5.30                   4.54   \n",
       "2                   4.21                   3.86   \n",
       "3                   2.89                   2.68   \n",
       "4                   2.30                   2.20   \n",
       "\n",
       "   Betbrain Numbers of bookmakers Goals  Betbrain Max > 2.5 Goals  \\\n",
       "0                                  37.0                      1.71   \n",
       "1                                  37.0                      2.33   \n",
       "2                                  37.0                      2.34   \n",
       "3                                  37.0                      2.32   \n",
       "4                                  37.0                      1.90   \n",
       "\n",
       "   Betbrain Average > 2.5 Goals  Betbrain Max < 2.5 Goals  \\\n",
       "0                          1.65                      2.25   \n",
       "1                          2.16                      1.70   \n",
       "2                          2.17                      1.70   \n",
       "3                          2.15                      1.69   \n",
       "4                          1.81                      2.12   \n",
       "\n",
       "   Betbrain Average < 2.5 Goals  \n",
       "0                          2.14  \n",
       "1                          1.64  \n",
       "2                          1.63  \n",
       "3                          1.64  \n",
       "4                          1.92  \n",
       "\n",
       "[5 rows x 47 columns]"
      ]
     },
     "execution_count": 5,
     "metadata": {},
     "output_type": "execute_result"
    }
   ],
>>>>>>> 1cd40dd9acff9c54f8e6b8997244900ac922d211
   "source": [
    "data = pd.read_csv('https://raw.githubusercontent.com/abdul232/DMML_Team_Rolex/master/data/England%202008%202018%20Premiere%20League%20Clean%20DATA.csv', sep=';')\n",
    "# view the first 10 rows \n",
    "data.head(5)"
   ]
  },
  {
   "cell_type": "code",
<<<<<<< HEAD
   "execution_count": null,
   "metadata": {
    "scrolled": true
   },
   "outputs": [],
=======
   "execution_count": 3,
   "metadata": {
    "scrolled": true
   },
   "outputs": [
    {
     "data": {
      "text/plain": [
       "(4182, 47)"
      ]
     },
     "execution_count": 3,
     "metadata": {},
     "output_type": "execute_result"
    }
   ],
>>>>>>> 1cd40dd9acff9c54f8e6b8997244900ac922d211
   "source": [
    "data.shape"
   ]
  },
  {
   "cell_type": "code",
<<<<<<< HEAD
   "execution_count": null,
   "metadata": {
    "scrolled": true
   },
   "outputs": [],
=======
   "execution_count": 4,
   "metadata": {
    "scrolled": true
   },
   "outputs": [
    {
     "data": {
      "text/plain": [
       "(4180, 47)"
      ]
     },
     "execution_count": 4,
     "metadata": {},
     "output_type": "execute_result"
    }
   ],
>>>>>>> 1cd40dd9acff9c54f8e6b8997244900ac922d211
   "source": [
    "#We have to drop the two lasts rows because they are NaN\n",
    "data = data.drop([4180, 4181])\n",
    "\n",
    "#We have a new dimension\n",
    "data.shape"
   ]
  },
  {
   "cell_type": "markdown",
   "metadata": {},
   "source": [
    "This dataset counts **4'182** rows for **47** columns.\n",
    "\n",
    "##### Explanations on betting's vocabulary\n",
    "First, let's set up the vocabulary. While betting,  _odds_ are linked to each bet you make. Betting odds tell you how likely an event is to happen, and represents how much money you could win if your bet realizes itself.\n",
    "\n",
    "\n",
    "There is the possibility to bet on different type of results before a match. Here, we will take into account these type of bets: the one on the number of goals, the other on the match result (Home team wins, Away team wins, Draw match)."
   ]
  },
  {
   "cell_type": "code",
   "execution_count": null,
   "metadata": {
    "scrolled": true
   },
   "outputs": [],
   "source": [
    "data.dtypes"
   ]
  },
  {
   "cell_type": "code",
   "execution_count": null,
   "metadata": {
    "scrolled": true
   },
   "outputs": [],
   "source": [
    "data['Match_ID'] = data.Match_ID.astype(int)"
   ]
  },
  {
   "cell_type": "code",
   "execution_count": null,
   "metadata": {
    "scrolled": true
   },
   "outputs": [],
   "source": [
    "#We would like to do 3 different regression, one for the Home team wins, one for the draws and ondre for the Away team wins\n",
    "data = pd.get_dummies(data, columns=['Match Result'])"
   ]
  },
  {
   "cell_type": "code",
   "execution_count": null,
   "metadata": {
    "scrolled": true
   },
   "outputs": [],
   "source": [
    "#We have to change the type of some variable\n",
    "data['Date'] = pd.to_datetime(data['Date'], format=\"%d.%m.%Y\")\n"
   ]
  },
  {
   "cell_type": "code",
   "execution_count": null,
   "metadata": {
    "scrolled": true
   },
   "outputs": [],
   "source": [
    "data[['Home Team Goals', 'Away Team Goals', 'Home Team Shots','Away Team Shots', 'Home Team Shots on Target', 'Away Team Shots on Target', 'Home Fouls Committed', 'Away Fouls Committed', 'Home Corners', 'Away Cornners', 'Home Yellow Cards', 'Away Yellow Cards', 'Home Red Cards', 'Away Red Cards']]= data[['Home Team Goals', 'Away Team Goals', 'Home Team Shots','Away Team Shots', 'Home Team Shots on Target', 'Away Team Shots on Target', 'Home Fouls Committed', 'Away Fouls Committed', 'Home Corners', 'Away Cornners', 'Home Yellow Cards', 'Away Yellow Cards', 'Home Red Cards', 'Away Red Cards']].astype(int)"
   ]
  },
  {
   "cell_type": "code",
   "execution_count": null,
   "metadata": {
    "scrolled": true
   },
   "outputs": [],
   "source": [
    "data.dtypes"
   ]
  },
  {
   "cell_type": "code",
   "execution_count": null,
   "metadata": {},
   "outputs": [],
   "source": []
  }
 ],
 "metadata": {
  "colab": {
   "name": "test.ipynb",
   "provenance": []
  },
  "kernelspec": {
   "display_name": "Python 3",
   "language": "python",
   "name": "python3"
  },
  "language_info": {
   "codemirror_mode": {
    "name": "ipython",
    "version": 3
   },
   "file_extension": ".py",
   "mimetype": "text/x-python",
   "name": "python",
   "nbconvert_exporter": "python",
   "pygments_lexer": "ipython3",
   "version": "3.7.3"
  }
 },
 "nbformat": 4,
 "nbformat_minor": 1
}
