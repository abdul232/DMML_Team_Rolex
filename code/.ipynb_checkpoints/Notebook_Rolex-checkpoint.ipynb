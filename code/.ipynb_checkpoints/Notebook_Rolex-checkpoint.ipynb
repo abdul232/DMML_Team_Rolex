{
 "cells": [
  {
   "cell_type": "markdown",
   "metadata": {},
   "source": [
    "# Betting strategies \n",
    "## _England Premiere League Results & Odds Dataset_\n",
    "\n",
    "### I. Introduction\n",
    "\n",
    "> You do not know anything about sports betting or you want to implement a new strategy? This notebook will help you understand this world, and also provide you a **betting strategy** that you will be able to apply on your own.\n",
    "\n",
    "In this report, we will take the example of Football, the sport with the highest number of bets. More precisely, we will concentrate on **England Premiere League results**, because its great number of matches will allow us to test and build a strong strategy. \n",
    "\n",
    "##### Explanations on betting's vocabulary\n",
    "First, let's set up the vocabulary. While betting,  _odds_ are linked to each bet you make. Betting odds tell you how likely an event is to happen, and represents how much money you could win if your bet realizes itself.\n",
    "There is the possibility to bet on different type of results before a match. Here, we will take into account these type of bets: the one on the number of goals, the other on the match result (Home team wins, Away team wins, Draw match).\n",
    "\n",
    "\n",
    "#### First, we imported some extensions that will be useful for this notebook. As you can see we imported :\n",
    "\n",
    "> 1. numpy (...)\n",
    "> 2. matplotlib (...)\n",
    "> 3. pandas (...)\n",
    "> 5. seaborn (...)\n",
    "> 6. sklearn (...)"
   ]
  },
  {
   "cell_type": "code",
   "execution_count": 80,
   "metadata": {
    "colab": {
     "base_uri": "https://localhost:8080/",
     "height": 51
    },
    "colab_type": "code",
    "executionInfo": {
     "elapsed": 622,
     "status": "ok",
     "timestamp": 1574259749449,
     "user": {
      "displayName": "Abdoo Aloraib",
      "photoUrl": "https://lh3.googleusercontent.com/a-/AAuE7mCUO9oHDV-z7IuSjn4Tf1zgFORfDmiFylWCNgAY=s64",
      "userId": "10713939061096290051"
     },
     "user_tz": -60
    },
    "id": "Lnz2cec4L-rj",
    "outputId": "e04a0661-4935-4981-d25b-76c201d7cf5a",
    "scrolled": true
   },
   "outputs": [
    {
     "name": "stdout",
     "output_type": "stream",
     "text": [
      "The autoreload extension is already loaded. To reload it, use:\n",
      "  %reload_ext autoreload\n"
     ]
    }
   ],
   "source": [
    "# Useful starting lines\n",
    "%matplotlib inline\n",
    "import numpy as np\n",
    "import matplotlib.pyplot as plt\n",
    "from matplotlib import collections  as mc\n",
    "%load_ext autoreload\n",
    "%autoreload 2\n",
    "import pandas as pd \n",
    "import seaborn as sns\n",
    "from sklearn.preprocessing import LabelEncoder, OneHotEncoder\n",
    "sns.set_style(\"white\")"
   ]
  },
  {
   "cell_type": "markdown",
   "metadata": {},
   "source": [
    "#### Dataset\n",
    "\n",
    "The dataset we chose groups the results of these matches since 2008 with data like date time, Home team/Away team, the goals, the match result, the referee for the match etc. There are also odds set on matches' results or number of goals, taken from different betting sites.\n",
    "\n",
    "The following is the dataset, in a csv file, that we decided to call _data_."
   ]
  },
  {
   "cell_type": "code",
   "execution_count": 81,
   "metadata": {
    "colab": {
     "base_uri": "https://localhost:8080/",
     "height": 1000
    },
    "colab_type": "code",
    "executionInfo": {
     "elapsed": 826,
     "status": "ok",
     "timestamp": 1574259812216,
     "user": {
      "displayName": "Abdoo Aloraib",
      "photoUrl": "https://lh3.googleusercontent.com/a-/AAuE7mCUO9oHDV-z7IuSjn4Tf1zgFORfDmiFylWCNgAY=s64",
      "userId": "10713939061096290051"
     },
     "user_tz": -60
    },
    "id": "imYCkCGmMNIw",
    "outputId": "a9c39db3-798c-4d3d-d073-a62a7c8b71d4",
    "scrolled": true
   },
   "outputs": [
    {
     "data": {
      "text/html": [
       "<div>\n",
       "<style scoped>\n",
       "    .dataframe tbody tr th:only-of-type {\n",
       "        vertical-align: middle;\n",
       "    }\n",
       "\n",
       "    .dataframe tbody tr th {\n",
       "        vertical-align: top;\n",
       "    }\n",
       "\n",
       "    .dataframe thead th {\n",
       "        text-align: right;\n",
       "    }\n",
       "</style>\n",
       "<table border=\"1\" class=\"dataframe\">\n",
       "  <thead>\n",
       "    <tr style=\"text-align: right;\">\n",
       "      <th></th>\n",
       "      <th>Match_ID</th>\n",
       "      <th>Date</th>\n",
       "      <th>HomeTeam</th>\n",
       "      <th>AwayTeam</th>\n",
       "      <th>Home Team Goals</th>\n",
       "      <th>Away Team Goals</th>\n",
       "      <th>Match Result</th>\n",
       "      <th>Referee</th>\n",
       "      <th>Home Team Shots</th>\n",
       "      <th>Away Team Shots</th>\n",
       "      <th>...</th>\n",
       "      <th>Betbrain Average Home</th>\n",
       "      <th>Betbrain Maximum Draw</th>\n",
       "      <th>Betbrain Average Draw</th>\n",
       "      <th>Betbrain Maximum Away</th>\n",
       "      <th>Betbrain Average Away</th>\n",
       "      <th>Betbrain Numbers of bookmakers Goals</th>\n",
       "      <th>Betbrain Max &gt; 2.5 Goals</th>\n",
       "      <th>Betbrain Average &gt; 2.5 Goals</th>\n",
       "      <th>Betbrain Max &lt; 2.5 Goals</th>\n",
       "      <th>Betbrain Average &lt; 2.5 Goals</th>\n",
       "    </tr>\n",
       "  </thead>\n",
       "  <tbody>\n",
       "    <tr>\n",
       "      <th>0</th>\n",
       "      <td>3801</td>\n",
       "      <td>10.08.2018</td>\n",
       "      <td>Man United</td>\n",
       "      <td>Leicester</td>\n",
       "      <td>2</td>\n",
       "      <td>1</td>\n",
       "      <td>H</td>\n",
       "      <td>A Marriner</td>\n",
       "      <td>8</td>\n",
       "      <td>13</td>\n",
       "      <td>...</td>\n",
       "      <td>1.56</td>\n",
       "      <td>4.20</td>\n",
       "      <td>3.92</td>\n",
       "      <td>8.05</td>\n",
       "      <td>7.06</td>\n",
       "      <td>38</td>\n",
       "      <td>2.12</td>\n",
       "      <td>2.03</td>\n",
       "      <td>1.85</td>\n",
       "      <td>1.79</td>\n",
       "    </tr>\n",
       "    <tr>\n",
       "      <th>1</th>\n",
       "      <td>3802</td>\n",
       "      <td>11.08.2018</td>\n",
       "      <td>Bournemouth</td>\n",
       "      <td>Cardiff</td>\n",
       "      <td>2</td>\n",
       "      <td>0</td>\n",
       "      <td>H</td>\n",
       "      <td>K Friend</td>\n",
       "      <td>12</td>\n",
       "      <td>10</td>\n",
       "      <td>...</td>\n",
       "      <td>1.88</td>\n",
       "      <td>3.71</td>\n",
       "      <td>3.53</td>\n",
       "      <td>4.75</td>\n",
       "      <td>4.37</td>\n",
       "      <td>38</td>\n",
       "      <td>2.05</td>\n",
       "      <td>1.98</td>\n",
       "      <td>1.92</td>\n",
       "      <td>1.83</td>\n",
       "    </tr>\n",
       "    <tr>\n",
       "      <th>2</th>\n",
       "      <td>3803</td>\n",
       "      <td>11.08.2018</td>\n",
       "      <td>Fulham</td>\n",
       "      <td>Crystal Palace</td>\n",
       "      <td>0</td>\n",
       "      <td>2</td>\n",
       "      <td>A</td>\n",
       "      <td>M Dean</td>\n",
       "      <td>15</td>\n",
       "      <td>10</td>\n",
       "      <td>...</td>\n",
       "      <td>2.47</td>\n",
       "      <td>3.49</td>\n",
       "      <td>3.35</td>\n",
       "      <td>3.05</td>\n",
       "      <td>2.92</td>\n",
       "      <td>38</td>\n",
       "      <td>2.00</td>\n",
       "      <td>1.95</td>\n",
       "      <td>1.96</td>\n",
       "      <td>1.87</td>\n",
       "    </tr>\n",
       "    <tr>\n",
       "      <th>3</th>\n",
       "      <td>3804</td>\n",
       "      <td>11.08.2018</td>\n",
       "      <td>Huddersfield</td>\n",
       "      <td>Chelsea</td>\n",
       "      <td>0</td>\n",
       "      <td>3</td>\n",
       "      <td>A</td>\n",
       "      <td>C Kavanagh</td>\n",
       "      <td>6</td>\n",
       "      <td>13</td>\n",
       "      <td>...</td>\n",
       "      <td>6.09</td>\n",
       "      <td>4.07</td>\n",
       "      <td>3.90</td>\n",
       "      <td>1.66</td>\n",
       "      <td>1.61</td>\n",
       "      <td>37</td>\n",
       "      <td>2.05</td>\n",
       "      <td>1.98</td>\n",
       "      <td>1.90</td>\n",
       "      <td>1.84</td>\n",
       "    </tr>\n",
       "    <tr>\n",
       "      <th>4</th>\n",
       "      <td>3805</td>\n",
       "      <td>11.08.2018</td>\n",
       "      <td>Newcastle</td>\n",
       "      <td>Tottenham</td>\n",
       "      <td>1</td>\n",
       "      <td>2</td>\n",
       "      <td>A</td>\n",
       "      <td>M Atkinson</td>\n",
       "      <td>15</td>\n",
       "      <td>15</td>\n",
       "      <td>...</td>\n",
       "      <td>3.83</td>\n",
       "      <td>3.57</td>\n",
       "      <td>3.40</td>\n",
       "      <td>2.12</td>\n",
       "      <td>2.05</td>\n",
       "      <td>38</td>\n",
       "      <td>2.10</td>\n",
       "      <td>2.01</td>\n",
       "      <td>1.88</td>\n",
       "      <td>1.81</td>\n",
       "    </tr>\n",
       "    <tr>\n",
       "      <th>5</th>\n",
       "      <td>3806</td>\n",
       "      <td>11.08.2018</td>\n",
       "      <td>Watford</td>\n",
       "      <td>Brighton</td>\n",
       "      <td>2</td>\n",
       "      <td>0</td>\n",
       "      <td>H</td>\n",
       "      <td>J Moss</td>\n",
       "      <td>19</td>\n",
       "      <td>6</td>\n",
       "      <td>...</td>\n",
       "      <td>2.36</td>\n",
       "      <td>3.30</td>\n",
       "      <td>3.14</td>\n",
       "      <td>3.42</td>\n",
       "      <td>3.31</td>\n",
       "      <td>37</td>\n",
       "      <td>2.46</td>\n",
       "      <td>2.35</td>\n",
       "      <td>1.67</td>\n",
       "      <td>1.59</td>\n",
       "    </tr>\n",
       "    <tr>\n",
       "      <th>6</th>\n",
       "      <td>3807</td>\n",
       "      <td>11.08.2018</td>\n",
       "      <td>Wolves</td>\n",
       "      <td>Everton</td>\n",
       "      <td>2</td>\n",
       "      <td>2</td>\n",
       "      <td>D</td>\n",
       "      <td>C Pawson</td>\n",
       "      <td>11</td>\n",
       "      <td>6</td>\n",
       "      <td>...</td>\n",
       "      <td>2.33</td>\n",
       "      <td>3.40</td>\n",
       "      <td>3.27</td>\n",
       "      <td>3.40</td>\n",
       "      <td>3.23</td>\n",
       "      <td>36</td>\n",
       "      <td>2.20</td>\n",
       "      <td>2.09</td>\n",
       "      <td>1.83</td>\n",
       "      <td>1.75</td>\n",
       "    </tr>\n",
       "    <tr>\n",
       "      <th>7</th>\n",
       "      <td>3808</td>\n",
       "      <td>12.08.2018</td>\n",
       "      <td>Arsenal</td>\n",
       "      <td>Man City</td>\n",
       "      <td>0</td>\n",
       "      <td>2</td>\n",
       "      <td>A</td>\n",
       "      <td>M Oliver</td>\n",
       "      <td>9</td>\n",
       "      <td>17</td>\n",
       "      <td>...</td>\n",
       "      <td>3.83</td>\n",
       "      <td>4.00</td>\n",
       "      <td>3.80</td>\n",
       "      <td>2.00</td>\n",
       "      <td>1.92</td>\n",
       "      <td>36</td>\n",
       "      <td>1.60</td>\n",
       "      <td>1.55</td>\n",
       "      <td>2.55</td>\n",
       "      <td>2.42</td>\n",
       "    </tr>\n",
       "    <tr>\n",
       "      <th>8</th>\n",
       "      <td>3809</td>\n",
       "      <td>12.08.2018</td>\n",
       "      <td>Liverpool</td>\n",
       "      <td>West Ham</td>\n",
       "      <td>4</td>\n",
       "      <td>0</td>\n",
       "      <td>H</td>\n",
       "      <td>A Taylor</td>\n",
       "      <td>18</td>\n",
       "      <td>5</td>\n",
       "      <td>...</td>\n",
       "      <td>1.25</td>\n",
       "      <td>6.79</td>\n",
       "      <td>6.22</td>\n",
       "      <td>15.00</td>\n",
       "      <td>12.30</td>\n",
       "      <td>33</td>\n",
       "      <td>1.49</td>\n",
       "      <td>1.44</td>\n",
       "      <td>2.88</td>\n",
       "      <td>2.72</td>\n",
       "    </tr>\n",
       "    <tr>\n",
       "      <th>9</th>\n",
       "      <td>3810</td>\n",
       "      <td>12.08.2018</td>\n",
       "      <td>Southampton</td>\n",
       "      <td>Burnley</td>\n",
       "      <td>0</td>\n",
       "      <td>0</td>\n",
       "      <td>D</td>\n",
       "      <td>G Scott</td>\n",
       "      <td>18</td>\n",
       "      <td>16</td>\n",
       "      <td>...</td>\n",
       "      <td>1.84</td>\n",
       "      <td>3.61</td>\n",
       "      <td>3.43</td>\n",
       "      <td>5.20</td>\n",
       "      <td>4.80</td>\n",
       "      <td>37</td>\n",
       "      <td>2.45</td>\n",
       "      <td>2.34</td>\n",
       "      <td>1.67</td>\n",
       "      <td>1.60</td>\n",
       "    </tr>\n",
       "  </tbody>\n",
       "</table>\n",
       "<p>10 rows × 47 columns</p>\n",
       "</div>"
      ],
      "text/plain": [
       "   Match_ID        Date      HomeTeam        AwayTeam  Home Team Goals  \\\n",
       "0      3801  10.08.2018    Man United       Leicester                2   \n",
       "1      3802  11.08.2018   Bournemouth         Cardiff                2   \n",
       "2      3803  11.08.2018        Fulham  Crystal Palace                0   \n",
       "3      3804  11.08.2018  Huddersfield         Chelsea                0   \n",
       "4      3805  11.08.2018     Newcastle       Tottenham                1   \n",
       "5      3806  11.08.2018       Watford        Brighton                2   \n",
       "6      3807  11.08.2018        Wolves         Everton                2   \n",
       "7      3808  12.08.2018       Arsenal        Man City                0   \n",
       "8      3809  12.08.2018     Liverpool        West Ham                4   \n",
       "9      3810  12.08.2018   Southampton         Burnley                0   \n",
       "\n",
       "   Away Team Goals Match Result     Referee  Home Team Shots  Away Team Shots  \\\n",
       "0                1            H  A Marriner                8               13   \n",
       "1                0            H    K Friend               12               10   \n",
       "2                2            A      M Dean               15               10   \n",
       "3                3            A  C Kavanagh                6               13   \n",
       "4                2            A  M Atkinson               15               15   \n",
       "5                0            H      J Moss               19                6   \n",
       "6                2            D    C Pawson               11                6   \n",
       "7                2            A    M Oliver                9               17   \n",
       "8                0            H    A Taylor               18                5   \n",
       "9                0            D     G Scott               18               16   \n",
       "\n",
       "   ...  Betbrain Average Home  Betbrain Maximum Draw  Betbrain Average Draw  \\\n",
       "0  ...                   1.56                   4.20                   3.92   \n",
       "1  ...                   1.88                   3.71                   3.53   \n",
       "2  ...                   2.47                   3.49                   3.35   \n",
       "3  ...                   6.09                   4.07                   3.90   \n",
       "4  ...                   3.83                   3.57                   3.40   \n",
       "5  ...                   2.36                   3.30                   3.14   \n",
       "6  ...                   2.33                   3.40                   3.27   \n",
       "7  ...                   3.83                   4.00                   3.80   \n",
       "8  ...                   1.25                   6.79                   6.22   \n",
       "9  ...                   1.84                   3.61                   3.43   \n",
       "\n",
       "   Betbrain Maximum Away  Betbrain Average Away  \\\n",
       "0                   8.05                   7.06   \n",
       "1                   4.75                   4.37   \n",
       "2                   3.05                   2.92   \n",
       "3                   1.66                   1.61   \n",
       "4                   2.12                   2.05   \n",
       "5                   3.42                   3.31   \n",
       "6                   3.40                   3.23   \n",
       "7                   2.00                   1.92   \n",
       "8                  15.00                  12.30   \n",
       "9                   5.20                   4.80   \n",
       "\n",
       "   Betbrain Numbers of bookmakers Goals  Betbrain Max > 2.5 Goals  \\\n",
       "0                                    38                      2.12   \n",
       "1                                    38                      2.05   \n",
       "2                                    38                      2.00   \n",
       "3                                    37                      2.05   \n",
       "4                                    38                      2.10   \n",
       "5                                    37                      2.46   \n",
       "6                                    36                      2.20   \n",
       "7                                    36                      1.60   \n",
       "8                                    33                      1.49   \n",
       "9                                    37                      2.45   \n",
       "\n",
       "   Betbrain Average > 2.5 Goals  Betbrain Max < 2.5 Goals  \\\n",
       "0                          2.03                      1.85   \n",
       "1                          1.98                      1.92   \n",
       "2                          1.95                      1.96   \n",
       "3                          1.98                      1.90   \n",
       "4                          2.01                      1.88   \n",
       "5                          2.35                      1.67   \n",
       "6                          2.09                      1.83   \n",
       "7                          1.55                      2.55   \n",
       "8                          1.44                      2.88   \n",
       "9                          2.34                      1.67   \n",
       "\n",
       "   Betbrain Average < 2.5 Goals  \n",
       "0                          1.79  \n",
       "1                          1.83  \n",
       "2                          1.87  \n",
       "3                          1.84  \n",
       "4                          1.81  \n",
       "5                          1.59  \n",
       "6                          1.75  \n",
       "7                          2.42  \n",
       "8                          2.72  \n",
       "9                          1.60  \n",
       "\n",
       "[10 rows x 47 columns]"
      ]
     },
     "execution_count": 81,
     "metadata": {},
     "output_type": "execute_result"
    }
   ],
   "source": [
    "#We use the Dataset with the games of the season 2018\n",
    "data = pd.read_csv('https://raw.githubusercontent.com/abdul232/DMML_Team_Rolex/master/data/Premier%20League%202018%20-%202019.csv', sep=';')\n",
    "# view the first 10 rows \n",
    "data.head(10)"
   ]
  },
  {
   "cell_type": "code",
   "execution_count": 82,
   "metadata": {
    "scrolled": true
   },
   "outputs": [
    {
     "data": {
      "text/plain": [
       "(380, 47)"
      ]
     },
     "execution_count": 82,
     "metadata": {},
     "output_type": "execute_result"
    }
   ],
   "source": [
    "data.shape"
   ]
  },
  {
   "cell_type": "code",
   "execution_count": 83,
   "metadata": {
    "scrolled": true
   },
   "outputs": [],
   "source": [
    "#We have to drop the two lasts rows because they are NaN\n",
    "#data = data.drop([4180, 4181])\n",
    "\n",
    "#We have a new dimension\n",
    "#data.shape"
   ]
  },
  {
   "cell_type": "markdown",
   "metadata": {},
   "source": [
    "This dataset without the _NaN counts_ **4'182** rows for **47** columns.\n",
    "\n",
    "Now, let's set up the **types of the variables**. We will change some as int (integer), the date as datetime, while other will remain objects."
   ]
  },
  {
   "cell_type": "code",
   "execution_count": 84,
   "metadata": {
    "scrolled": false
   },
   "outputs": [
    {
     "data": {
      "text/plain": [
       "Match_ID                                  int64\n",
       "Date                                     object\n",
       "HomeTeam                                 object\n",
       "AwayTeam                                 object\n",
       "Home Team Goals                           int64\n",
       "Away Team Goals                           int64\n",
       "Match Result                             object\n",
       "Referee                                  object\n",
       "Home Team Shots                           int64\n",
       "Away Team Shots                           int64\n",
       "Home Team Shots on Target                 int64\n",
       "Away Team Shots on Target                 int64\n",
       "Home Fouls Committed                      int64\n",
       "Away Fouls Committed                      int64\n",
       "Home Corners                              int64\n",
       "Away Cornners                             int64\n",
       "Home Yellow Cards                         int64\n",
       "Away Yellow Cards                         int64\n",
       "Home Red Cards                            int64\n",
       "Away Red Cards                            int64\n",
       "B365 Home                               float64\n",
       "B365 Draw                               float64\n",
       "B365 Away                               float64\n",
       "Bet&Win Home                            float64\n",
       "Bet&Win Draw                            float64\n",
       "Bet&Win Away                            float64\n",
       "Interwetten Home                        float64\n",
       "Iterwetten Draw                         float64\n",
       "Interwetten Away                        float64\n",
       "William Hill Home                       float64\n",
       "William Hill Draw                       float64\n",
       "William Hill Away                       float64\n",
       "VC Bet Home                             float64\n",
       "VC Bet Draw                             float64\n",
       "VC Bet Away                             float64\n",
       "Betbrain Numbers of bookmakers 1X2        int64\n",
       "Betbrain Maximum Home                   float64\n",
       "Betbrain Average Home                   float64\n",
       "Betbrain Maximum Draw                   float64\n",
       "Betbrain Average Draw                   float64\n",
       "Betbrain Maximum Away                   float64\n",
       "Betbrain Average Away                   float64\n",
       "Betbrain Numbers of bookmakers Goals      int64\n",
       "Betbrain Max > 2.5 Goals                float64\n",
       "Betbrain Average > 2.5 Goals            float64\n",
       "Betbrain Max < 2.5 Goals                float64\n",
       "Betbrain Average < 2.5 Goals            float64\n",
       "dtype: object"
      ]
     },
     "execution_count": 84,
     "metadata": {},
     "output_type": "execute_result"
    }
   ],
   "source": [
    "data.dtypes"
   ]
  },
  {
   "cell_type": "code",
   "execution_count": 85,
   "metadata": {
    "scrolled": true
   },
   "outputs": [],
   "source": [
    "#We have to change the type of some variable\n",
    "data['Match_ID'] = data.Match_ID.astype(int)"
   ]
  },
  {
   "cell_type": "code",
   "execution_count": 86,
   "metadata": {
    "scrolled": true
   },
   "outputs": [],
   "source": [
    "#We have to change the type of some variable\n",
    "data['Date'] = pd.to_datetime(data['Date'], format=\"%d.%m.%Y\")\n"
   ]
  },
  {
   "cell_type": "code",
   "execution_count": 87,
   "metadata": {
    "scrolled": true
   },
   "outputs": [],
   "source": [
    "#We have to change the type of some variable\n",
    "data[['Home Team Goals', 'Away Team Goals', 'Home Team Shots','Away Team Shots', 'Home Team Shots on Target', 'Away Team Shots on Target', 'Home Fouls Committed', 'Away Fouls Committed', 'Home Corners', 'Away Cornners', 'Home Yellow Cards', 'Away Yellow Cards', 'Home Red Cards', 'Away Red Cards']]= data[['Home Team Goals', 'Away Team Goals', 'Home Team Shots','Away Team Shots', 'Home Team Shots on Target', 'Away Team Shots on Target', 'Home Fouls Committed', 'Away Fouls Committed', 'Home Corners', 'Away Cornners', 'Home Yellow Cards', 'Away Yellow Cards', 'Home Red Cards', 'Away Red Cards']].astype(int)"
   ]
  },
  {
   "cell_type": "code",
   "execution_count": 88,
   "metadata": {
    "scrolled": true
   },
   "outputs": [
    {
     "data": {
      "text/plain": [
       "Match_ID                                         int64\n",
       "Date                                    datetime64[ns]\n",
       "HomeTeam                                        object\n",
       "AwayTeam                                        object\n",
       "Home Team Goals                                  int64\n",
       "Away Team Goals                                  int64\n",
       "Match Result                                    object\n",
       "Referee                                         object\n",
       "Home Team Shots                                  int64\n",
       "Away Team Shots                                  int64\n",
       "Home Team Shots on Target                        int64\n",
       "Away Team Shots on Target                        int64\n",
       "Home Fouls Committed                             int64\n",
       "Away Fouls Committed                             int64\n",
       "Home Corners                                     int64\n",
       "Away Cornners                                    int64\n",
       "Home Yellow Cards                                int64\n",
       "Away Yellow Cards                                int64\n",
       "Home Red Cards                                   int64\n",
       "Away Red Cards                                   int64\n",
       "B365 Home                                      float64\n",
       "B365 Draw                                      float64\n",
       "B365 Away                                      float64\n",
       "Bet&Win Home                                   float64\n",
       "Bet&Win Draw                                   float64\n",
       "Bet&Win Away                                   float64\n",
       "Interwetten Home                               float64\n",
       "Iterwetten Draw                                float64\n",
       "Interwetten Away                               float64\n",
       "William Hill Home                              float64\n",
       "William Hill Draw                              float64\n",
       "William Hill Away                              float64\n",
       "VC Bet Home                                    float64\n",
       "VC Bet Draw                                    float64\n",
       "VC Bet Away                                    float64\n",
       "Betbrain Numbers of bookmakers 1X2               int64\n",
       "Betbrain Maximum Home                          float64\n",
       "Betbrain Average Home                          float64\n",
       "Betbrain Maximum Draw                          float64\n",
       "Betbrain Average Draw                          float64\n",
       "Betbrain Maximum Away                          float64\n",
       "Betbrain Average Away                          float64\n",
       "Betbrain Numbers of bookmakers Goals             int64\n",
       "Betbrain Max > 2.5 Goals                       float64\n",
       "Betbrain Average > 2.5 Goals                   float64\n",
       "Betbrain Max < 2.5 Goals                       float64\n",
       "Betbrain Average < 2.5 Goals                   float64\n",
       "dtype: object"
      ]
     },
     "execution_count": 88,
     "metadata": {},
     "output_type": "execute_result"
    }
   ],
   "source": [
    "data.dtypes"
   ]
  },
  {
   "cell_type": "markdown",
   "metadata": {},
   "source": [
    "### Regressions\n",
    "\n",
    "To build a betting strategy, it is first relevant to know how frequently the betting companies makes right predicting or not. So, in order to undertand this fact, we will build three different scatter plot :\n",
    "> * when the official result is the victory of the home team crossed with the \"Home team win\" odd.\n",
    "> * When the official result is the victory of the away team crossed with the match result with the \"Away team win\" odd.\n",
    "> * When the official result is draw crossed with the \"Draw\"odd.\n",
    "\n",
    "Each graph will show the odds of all the betting websites, to compare them.\n",
    "\n",
    "#### Normalistion\n",
    "As first steps we will normalise the odds to have a better comparison :\n"
   ]
  },
  {
   "cell_type": "code",
   "execution_count": 89,
   "metadata": {},
   "outputs": [],
   "source": [
    "#We would like to do 3 different regression, one for the Home team wins, one for the draws and one for the Away team wins\n",
    "data = pd.get_dummies(data, columns=['Match Result'])"
   ]
  },
  {
   "cell_type": "code",
   "execution_count": 90,
   "metadata": {},
   "outputs": [
    {
     "data": {
      "text/html": [
       "<div>\n",
       "<style scoped>\n",
       "    .dataframe tbody tr th:only-of-type {\n",
       "        vertical-align: middle;\n",
       "    }\n",
       "\n",
       "    .dataframe tbody tr th {\n",
       "        vertical-align: top;\n",
       "    }\n",
       "\n",
       "    .dataframe thead th {\n",
       "        text-align: right;\n",
       "    }\n",
       "</style>\n",
       "<table border=\"1\" class=\"dataframe\">\n",
       "  <thead>\n",
       "    <tr style=\"text-align: right;\">\n",
       "      <th></th>\n",
       "      <th>B365 Home</th>\n",
       "      <th>B365 Draw</th>\n",
       "      <th>B365 Away</th>\n",
       "      <th>Bet&amp;Win Home</th>\n",
       "      <th>Bet&amp;Win Draw</th>\n",
       "      <th>Bet&amp;Win Away</th>\n",
       "      <th>Interwetten Home</th>\n",
       "      <th>Iterwetten Draw</th>\n",
       "      <th>Interwetten Away</th>\n",
       "      <th>William Hill Home</th>\n",
       "      <th>William Hill Draw</th>\n",
       "      <th>William Hill Away</th>\n",
       "      <th>VC Bet Home</th>\n",
       "      <th>VC Bet Draw</th>\n",
       "      <th>VC Bet Away</th>\n",
       "    </tr>\n",
       "  </thead>\n",
       "  <tbody>\n",
       "    <tr>\n",
       "      <th>0</th>\n",
       "      <td>0.023245</td>\n",
       "      <td>0.064286</td>\n",
       "      <td>0.159980</td>\n",
       "      <td>0.024060</td>\n",
       "      <td>0.090909</td>\n",
       "      <td>0.182679</td>\n",
       "      <td>0.025357</td>\n",
       "      <td>0.093923</td>\n",
       "      <td>0.210904</td>\n",
       "      <td>0.026065</td>\n",
       "      <td>0.080</td>\n",
       "      <td>0.108734</td>\n",
       "      <td>0.023690</td>\n",
       "      <td>0.083333</td>\n",
       "      <td>0.117529</td>\n",
       "    </tr>\n",
       "    <tr>\n",
       "      <th>1</th>\n",
       "      <td>0.038286</td>\n",
       "      <td>0.042857</td>\n",
       "      <td>0.084754</td>\n",
       "      <td>0.042607</td>\n",
       "      <td>0.036364</td>\n",
       "      <td>0.093777</td>\n",
       "      <td>0.043846</td>\n",
       "      <td>0.060773</td>\n",
       "      <td>0.106887</td>\n",
       "      <td>0.043108</td>\n",
       "      <td>0.050</td>\n",
       "      <td>0.064171</td>\n",
       "      <td>0.037358</td>\n",
       "      <td>0.050000</td>\n",
       "      <td>0.072403</td>\n",
       "    </tr>\n",
       "    <tr>\n",
       "      <th>2</th>\n",
       "      <td>0.065634</td>\n",
       "      <td>0.028571</td>\n",
       "      <td>0.047141</td>\n",
       "      <td>0.070175</td>\n",
       "      <td>0.027273</td>\n",
       "      <td>0.052194</td>\n",
       "      <td>0.070259</td>\n",
       "      <td>0.038674</td>\n",
       "      <td>0.065638</td>\n",
       "      <td>0.070175</td>\n",
       "      <td>0.030</td>\n",
       "      <td>0.037433</td>\n",
       "      <td>0.066059</td>\n",
       "      <td>0.033333</td>\n",
       "      <td>0.037304</td>\n",
       "    </tr>\n",
       "    <tr>\n",
       "      <th>3</th>\n",
       "      <td>0.247949</td>\n",
       "      <td>0.071429</td>\n",
       "      <td>0.012287</td>\n",
       "      <td>0.260652</td>\n",
       "      <td>0.081818</td>\n",
       "      <td>0.012618</td>\n",
       "      <td>0.270998</td>\n",
       "      <td>0.116022</td>\n",
       "      <td>0.015423</td>\n",
       "      <td>0.238095</td>\n",
       "      <td>0.090</td>\n",
       "      <td>0.010027</td>\n",
       "      <td>0.248292</td>\n",
       "      <td>0.083333</td>\n",
       "      <td>0.009627</td>\n",
       "    </tr>\n",
       "    <tr>\n",
       "      <th>4</th>\n",
       "      <td>0.129444</td>\n",
       "      <td>0.035714</td>\n",
       "      <td>0.023069</td>\n",
       "      <td>0.137845</td>\n",
       "      <td>0.045455</td>\n",
       "      <td>0.024950</td>\n",
       "      <td>0.138933</td>\n",
       "      <td>0.044199</td>\n",
       "      <td>0.033357</td>\n",
       "      <td>0.137845</td>\n",
       "      <td>0.020</td>\n",
       "      <td>0.020722</td>\n",
       "      <td>0.129841</td>\n",
       "      <td>0.033333</td>\n",
       "      <td>0.019254</td>\n",
       "    </tr>\n",
       "    <tr>\n",
       "      <th>5</th>\n",
       "      <td>0.059708</td>\n",
       "      <td>0.014286</td>\n",
       "      <td>0.057172</td>\n",
       "      <td>0.065163</td>\n",
       "      <td>0.009091</td>\n",
       "      <td>0.062231</td>\n",
       "      <td>0.059694</td>\n",
       "      <td>0.038674</td>\n",
       "      <td>0.081779</td>\n",
       "      <td>0.066667</td>\n",
       "      <td>0.000</td>\n",
       "      <td>0.048574</td>\n",
       "      <td>0.061503</td>\n",
       "      <td>0.016667</td>\n",
       "      <td>0.045327</td>\n",
       "    </tr>\n",
       "    <tr>\n",
       "      <th>6</th>\n",
       "      <td>0.059708</td>\n",
       "      <td>0.021429</td>\n",
       "      <td>0.054664</td>\n",
       "      <td>0.065163</td>\n",
       "      <td>0.018182</td>\n",
       "      <td>0.059363</td>\n",
       "      <td>0.062335</td>\n",
       "      <td>0.044199</td>\n",
       "      <td>0.074605</td>\n",
       "      <td>0.062657</td>\n",
       "      <td>0.020</td>\n",
       "      <td>0.046346</td>\n",
       "      <td>0.060592</td>\n",
       "      <td>0.025000</td>\n",
       "      <td>0.043321</td>\n",
       "    </tr>\n",
       "    <tr>\n",
       "      <th>7</th>\n",
       "      <td>0.134002</td>\n",
       "      <td>0.057143</td>\n",
       "      <td>0.020812</td>\n",
       "      <td>0.132832</td>\n",
       "      <td>0.068182</td>\n",
       "      <td>0.023516</td>\n",
       "      <td>0.133650</td>\n",
       "      <td>0.071823</td>\n",
       "      <td>0.031564</td>\n",
       "      <td>0.137845</td>\n",
       "      <td>0.080</td>\n",
       "      <td>0.017602</td>\n",
       "      <td>0.129841</td>\n",
       "      <td>0.083333</td>\n",
       "      <td>0.015443</td>\n",
       "    </tr>\n",
       "    <tr>\n",
       "      <th>8</th>\n",
       "      <td>0.008660</td>\n",
       "      <td>0.250000</td>\n",
       "      <td>0.322969</td>\n",
       "      <td>0.007519</td>\n",
       "      <td>0.340909</td>\n",
       "      <td>0.369085</td>\n",
       "      <td>0.009509</td>\n",
       "      <td>0.348066</td>\n",
       "      <td>0.354376</td>\n",
       "      <td>0.010025</td>\n",
       "      <td>0.250</td>\n",
       "      <td>0.242424</td>\n",
       "      <td>0.009112</td>\n",
       "      <td>0.291667</td>\n",
       "      <td>0.237866</td>\n",
       "    </tr>\n",
       "    <tr>\n",
       "      <th>9</th>\n",
       "      <td>0.036007</td>\n",
       "      <td>0.035714</td>\n",
       "      <td>0.097292</td>\n",
       "      <td>0.037594</td>\n",
       "      <td>0.045455</td>\n",
       "      <td>0.103814</td>\n",
       "      <td>0.038563</td>\n",
       "      <td>0.071823</td>\n",
       "      <td>0.121234</td>\n",
       "      <td>0.039098</td>\n",
       "      <td>0.025</td>\n",
       "      <td>0.081996</td>\n",
       "      <td>0.036446</td>\n",
       "      <td>0.033333</td>\n",
       "      <td>0.081428</td>\n",
       "    </tr>\n",
       "  </tbody>\n",
       "</table>\n",
       "</div>"
      ],
      "text/plain": [
       "   B365 Home  B365 Draw  B365 Away  Bet&Win Home  Bet&Win Draw  Bet&Win Away  \\\n",
       "0   0.023245   0.064286   0.159980      0.024060      0.090909      0.182679   \n",
       "1   0.038286   0.042857   0.084754      0.042607      0.036364      0.093777   \n",
       "2   0.065634   0.028571   0.047141      0.070175      0.027273      0.052194   \n",
       "3   0.247949   0.071429   0.012287      0.260652      0.081818      0.012618   \n",
       "4   0.129444   0.035714   0.023069      0.137845      0.045455      0.024950   \n",
       "5   0.059708   0.014286   0.057172      0.065163      0.009091      0.062231   \n",
       "6   0.059708   0.021429   0.054664      0.065163      0.018182      0.059363   \n",
       "7   0.134002   0.057143   0.020812      0.132832      0.068182      0.023516   \n",
       "8   0.008660   0.250000   0.322969      0.007519      0.340909      0.369085   \n",
       "9   0.036007   0.035714   0.097292      0.037594      0.045455      0.103814   \n",
       "\n",
       "   Interwetten Home  Iterwetten Draw  Interwetten Away  William Hill Home  \\\n",
       "0          0.025357         0.093923          0.210904           0.026065   \n",
       "1          0.043846         0.060773          0.106887           0.043108   \n",
       "2          0.070259         0.038674          0.065638           0.070175   \n",
       "3          0.270998         0.116022          0.015423           0.238095   \n",
       "4          0.138933         0.044199          0.033357           0.137845   \n",
       "5          0.059694         0.038674          0.081779           0.066667   \n",
       "6          0.062335         0.044199          0.074605           0.062657   \n",
       "7          0.133650         0.071823          0.031564           0.137845   \n",
       "8          0.009509         0.348066          0.354376           0.010025   \n",
       "9          0.038563         0.071823          0.121234           0.039098   \n",
       "\n",
       "   William Hill Draw  William Hill Away  VC Bet Home  VC Bet Draw  VC Bet Away  \n",
       "0              0.080           0.108734     0.023690     0.083333     0.117529  \n",
       "1              0.050           0.064171     0.037358     0.050000     0.072403  \n",
       "2              0.030           0.037433     0.066059     0.033333     0.037304  \n",
       "3              0.090           0.010027     0.248292     0.083333     0.009627  \n",
       "4              0.020           0.020722     0.129841     0.033333     0.019254  \n",
       "5              0.000           0.048574     0.061503     0.016667     0.045327  \n",
       "6              0.020           0.046346     0.060592     0.025000     0.043321  \n",
       "7              0.080           0.017602     0.129841     0.083333     0.015443  \n",
       "8              0.250           0.242424     0.009112     0.291667     0.237866  \n",
       "9              0.025           0.081996     0.036446     0.033333     0.081428  "
      ]
     },
     "execution_count": 90,
     "metadata": {},
     "output_type": "execute_result"
    }
   ],
   "source": [
    "from sklearn import preprocessing\n",
    "# separate the data from the target attributes\n",
    "#X = data['B365 Home','B365 Draw','B365 Away','Bet&Win Home','Bet&Win Draw','Bet&Win Away','Interwetten Home','Iterwetten Draw','Interwetten Away','William Hill Home','William Hill Draw','William Hill Away','VC Bet Home','VC Bet Draw','VC Bet Away']\n",
    "# normalisation par formule (x - x.min()) / (x.max() - x.min())\n",
    "cols_to_norm = ['B365 Home','B365 Draw','B365 Away','Bet&Win Home','Bet&Win Draw','Bet&Win Away','Interwetten Home','Iterwetten Draw','Interwetten Away','William Hill Home','William Hill Draw','William Hill Away','VC Bet Home','VC Bet Draw','VC Bet Away']\n",
    "data[cols_to_norm] = data[cols_to_norm].apply(lambda x: (x - x.min()) / (x.max() - x.min())) \n",
    "data[cols_to_norm].head(10)"
   ]
  },
  {
   "cell_type": "code",
   "execution_count": 91,
   "metadata": {},
   "outputs": [
    {
     "data": {
      "text/html": [
       "<div>\n",
       "<style scoped>\n",
       "    .dataframe tbody tr th:only-of-type {\n",
       "        vertical-align: middle;\n",
       "    }\n",
       "\n",
       "    .dataframe tbody tr th {\n",
       "        vertical-align: top;\n",
       "    }\n",
       "\n",
       "    .dataframe thead th {\n",
       "        text-align: right;\n",
       "    }\n",
       "</style>\n",
       "<table border=\"1\" class=\"dataframe\">\n",
       "  <thead>\n",
       "    <tr style=\"text-align: right;\">\n",
       "      <th></th>\n",
       "      <th>B365 Home</th>\n",
       "      <th>B365 Draw</th>\n",
       "      <th>B365 Away</th>\n",
       "      <th>Bet&amp;Win Home</th>\n",
       "      <th>Bet&amp;Win Draw</th>\n",
       "      <th>Bet&amp;Win Away</th>\n",
       "      <th>Interwetten Home</th>\n",
       "      <th>Iterwetten Draw</th>\n",
       "      <th>Interwetten Away</th>\n",
       "      <th>William Hill Home</th>\n",
       "      <th>William Hill Draw</th>\n",
       "      <th>William Hill Away</th>\n",
       "      <th>VC Bet Home</th>\n",
       "      <th>VC Bet Draw</th>\n",
       "      <th>VC Bet Away</th>\n",
       "    </tr>\n",
       "  </thead>\n",
       "  <tbody>\n",
       "    <tr>\n",
       "      <th>0</th>\n",
       "      <td>0.023</td>\n",
       "      <td>0.064</td>\n",
       "      <td>0.160</td>\n",
       "      <td>0.024</td>\n",
       "      <td>0.091</td>\n",
       "      <td>0.183</td>\n",
       "      <td>0.025</td>\n",
       "      <td>0.094</td>\n",
       "      <td>0.211</td>\n",
       "      <td>0.026</td>\n",
       "      <td>0.080</td>\n",
       "      <td>0.109</td>\n",
       "      <td>0.024</td>\n",
       "      <td>0.083</td>\n",
       "      <td>0.118</td>\n",
       "    </tr>\n",
       "    <tr>\n",
       "      <th>1</th>\n",
       "      <td>0.038</td>\n",
       "      <td>0.043</td>\n",
       "      <td>0.085</td>\n",
       "      <td>0.043</td>\n",
       "      <td>0.036</td>\n",
       "      <td>0.094</td>\n",
       "      <td>0.044</td>\n",
       "      <td>0.061</td>\n",
       "      <td>0.107</td>\n",
       "      <td>0.043</td>\n",
       "      <td>0.050</td>\n",
       "      <td>0.064</td>\n",
       "      <td>0.037</td>\n",
       "      <td>0.050</td>\n",
       "      <td>0.072</td>\n",
       "    </tr>\n",
       "    <tr>\n",
       "      <th>2</th>\n",
       "      <td>0.066</td>\n",
       "      <td>0.029</td>\n",
       "      <td>0.047</td>\n",
       "      <td>0.070</td>\n",
       "      <td>0.027</td>\n",
       "      <td>0.052</td>\n",
       "      <td>0.070</td>\n",
       "      <td>0.039</td>\n",
       "      <td>0.066</td>\n",
       "      <td>0.070</td>\n",
       "      <td>0.030</td>\n",
       "      <td>0.037</td>\n",
       "      <td>0.066</td>\n",
       "      <td>0.033</td>\n",
       "      <td>0.037</td>\n",
       "    </tr>\n",
       "    <tr>\n",
       "      <th>3</th>\n",
       "      <td>0.248</td>\n",
       "      <td>0.071</td>\n",
       "      <td>0.012</td>\n",
       "      <td>0.261</td>\n",
       "      <td>0.082</td>\n",
       "      <td>0.013</td>\n",
       "      <td>0.271</td>\n",
       "      <td>0.116</td>\n",
       "      <td>0.015</td>\n",
       "      <td>0.238</td>\n",
       "      <td>0.090</td>\n",
       "      <td>0.010</td>\n",
       "      <td>0.248</td>\n",
       "      <td>0.083</td>\n",
       "      <td>0.010</td>\n",
       "    </tr>\n",
       "    <tr>\n",
       "      <th>4</th>\n",
       "      <td>0.129</td>\n",
       "      <td>0.036</td>\n",
       "      <td>0.023</td>\n",
       "      <td>0.138</td>\n",
       "      <td>0.045</td>\n",
       "      <td>0.025</td>\n",
       "      <td>0.139</td>\n",
       "      <td>0.044</td>\n",
       "      <td>0.033</td>\n",
       "      <td>0.138</td>\n",
       "      <td>0.020</td>\n",
       "      <td>0.021</td>\n",
       "      <td>0.130</td>\n",
       "      <td>0.033</td>\n",
       "      <td>0.019</td>\n",
       "    </tr>\n",
       "    <tr>\n",
       "      <th>5</th>\n",
       "      <td>0.060</td>\n",
       "      <td>0.014</td>\n",
       "      <td>0.057</td>\n",
       "      <td>0.065</td>\n",
       "      <td>0.009</td>\n",
       "      <td>0.062</td>\n",
       "      <td>0.060</td>\n",
       "      <td>0.039</td>\n",
       "      <td>0.082</td>\n",
       "      <td>0.067</td>\n",
       "      <td>0.000</td>\n",
       "      <td>0.049</td>\n",
       "      <td>0.062</td>\n",
       "      <td>0.017</td>\n",
       "      <td>0.045</td>\n",
       "    </tr>\n",
       "    <tr>\n",
       "      <th>6</th>\n",
       "      <td>0.060</td>\n",
       "      <td>0.021</td>\n",
       "      <td>0.055</td>\n",
       "      <td>0.065</td>\n",
       "      <td>0.018</td>\n",
       "      <td>0.059</td>\n",
       "      <td>0.062</td>\n",
       "      <td>0.044</td>\n",
       "      <td>0.075</td>\n",
       "      <td>0.063</td>\n",
       "      <td>0.020</td>\n",
       "      <td>0.046</td>\n",
       "      <td>0.061</td>\n",
       "      <td>0.025</td>\n",
       "      <td>0.043</td>\n",
       "    </tr>\n",
       "    <tr>\n",
       "      <th>7</th>\n",
       "      <td>0.134</td>\n",
       "      <td>0.057</td>\n",
       "      <td>0.021</td>\n",
       "      <td>0.133</td>\n",
       "      <td>0.068</td>\n",
       "      <td>0.024</td>\n",
       "      <td>0.134</td>\n",
       "      <td>0.072</td>\n",
       "      <td>0.032</td>\n",
       "      <td>0.138</td>\n",
       "      <td>0.080</td>\n",
       "      <td>0.018</td>\n",
       "      <td>0.130</td>\n",
       "      <td>0.083</td>\n",
       "      <td>0.015</td>\n",
       "    </tr>\n",
       "    <tr>\n",
       "      <th>8</th>\n",
       "      <td>0.009</td>\n",
       "      <td>0.250</td>\n",
       "      <td>0.323</td>\n",
       "      <td>0.008</td>\n",
       "      <td>0.341</td>\n",
       "      <td>0.369</td>\n",
       "      <td>0.010</td>\n",
       "      <td>0.348</td>\n",
       "      <td>0.354</td>\n",
       "      <td>0.010</td>\n",
       "      <td>0.250</td>\n",
       "      <td>0.242</td>\n",
       "      <td>0.009</td>\n",
       "      <td>0.292</td>\n",
       "      <td>0.238</td>\n",
       "    </tr>\n",
       "    <tr>\n",
       "      <th>9</th>\n",
       "      <td>0.036</td>\n",
       "      <td>0.036</td>\n",
       "      <td>0.097</td>\n",
       "      <td>0.038</td>\n",
       "      <td>0.045</td>\n",
       "      <td>0.104</td>\n",
       "      <td>0.039</td>\n",
       "      <td>0.072</td>\n",
       "      <td>0.121</td>\n",
       "      <td>0.039</td>\n",
       "      <td>0.025</td>\n",
       "      <td>0.082</td>\n",
       "      <td>0.036</td>\n",
       "      <td>0.033</td>\n",
       "      <td>0.081</td>\n",
       "    </tr>\n",
       "  </tbody>\n",
       "</table>\n",
       "</div>"
      ],
      "text/plain": [
       "   B365 Home  B365 Draw  B365 Away  Bet&Win Home  Bet&Win Draw  Bet&Win Away  \\\n",
       "0      0.023      0.064      0.160         0.024         0.091         0.183   \n",
       "1      0.038      0.043      0.085         0.043         0.036         0.094   \n",
       "2      0.066      0.029      0.047         0.070         0.027         0.052   \n",
       "3      0.248      0.071      0.012         0.261         0.082         0.013   \n",
       "4      0.129      0.036      0.023         0.138         0.045         0.025   \n",
       "5      0.060      0.014      0.057         0.065         0.009         0.062   \n",
       "6      0.060      0.021      0.055         0.065         0.018         0.059   \n",
       "7      0.134      0.057      0.021         0.133         0.068         0.024   \n",
       "8      0.009      0.250      0.323         0.008         0.341         0.369   \n",
       "9      0.036      0.036      0.097         0.038         0.045         0.104   \n",
       "\n",
       "   Interwetten Home  Iterwetten Draw  Interwetten Away  William Hill Home  \\\n",
       "0             0.025            0.094             0.211              0.026   \n",
       "1             0.044            0.061             0.107              0.043   \n",
       "2             0.070            0.039             0.066              0.070   \n",
       "3             0.271            0.116             0.015              0.238   \n",
       "4             0.139            0.044             0.033              0.138   \n",
       "5             0.060            0.039             0.082              0.067   \n",
       "6             0.062            0.044             0.075              0.063   \n",
       "7             0.134            0.072             0.032              0.138   \n",
       "8             0.010            0.348             0.354              0.010   \n",
       "9             0.039            0.072             0.121              0.039   \n",
       "\n",
       "   William Hill Draw  William Hill Away  VC Bet Home  VC Bet Draw  VC Bet Away  \n",
       "0              0.080              0.109        0.024        0.083        0.118  \n",
       "1              0.050              0.064        0.037        0.050        0.072  \n",
       "2              0.030              0.037        0.066        0.033        0.037  \n",
       "3              0.090              0.010        0.248        0.083        0.010  \n",
       "4              0.020              0.021        0.130        0.033        0.019  \n",
       "5              0.000              0.049        0.062        0.017        0.045  \n",
       "6              0.020              0.046        0.061        0.025        0.043  \n",
       "7              0.080              0.018        0.130        0.083        0.015  \n",
       "8              0.250              0.242        0.009        0.292        0.238  \n",
       "9              0.025              0.082        0.036        0.033        0.081  "
      ]
     },
     "execution_count": 91,
     "metadata": {},
     "output_type": "execute_result"
    }
   ],
   "source": [
    "round(data[cols_to_norm],3).head(10)"
   ]
  },
  {
   "cell_type": "markdown",
   "metadata": {},
   "source": [
    "#### Plot with seaborn\n",
    "\n",
    "Then we build a first scatter plot, we used seaborn and the betting website B365, when the Home team wins :"
   ]
  },
  {
   "cell_type": "code",
   "execution_count": 93,
   "metadata": {},
   "outputs": [
    {
     "data": {
      "text/plain": [
       "[Text(0, 0.5, 'Home team won [1]'),\n",
       " Text(0.5, 0, 'Website Odd while Home Team wins')]"
      ]
     },
     "execution_count": 93,
     "metadata": {},
     "output_type": "execute_result"
    },
    {
     "data": {
      "image/png": "[encoded data removed]",
      "text/plain": [
       "<Figure size 432x288 with 1 Axes>"
      ]
     },
     "metadata": {},
     "output_type": "display_data"
    }
   ],
   "source": [
    "from sklearn.linear_model import LinearRegression\n",
    "from sklearn.metrics import mean_absolute_error\n",
    "\n",
    "from sklearn import datasets, linear_model\n",
    "from sklearn.metrics import mean_squared_error, r2_score\n",
    "\n",
    "\n",
    "#tips = sns.load_dataset(data)\n",
    "\n",
    "a_B365_Home = sns.scatterplot(x=\"B365 Home\", y=\"Match Result_H\", data=data)\n",
    "\n",
    "a_BetWin_Home = sns.scatterplot(x=\"Bet&Win Home\", y=\"Match Result_H\", data=data)\n",
    "\n",
    "a_Interwetten_Home = sns.scatterplot(x=\"Interwetten Home\", y=\"Match Result_H\", data=data)\n",
    "\n",
    "a_WilliamHill_Home = sns.scatterplot(x=\"William Hill Home\", y=\"Match Result_H\", data=data)\n",
    "\n",
    "a_VCBet_Home = sns.scatterplot(x=\"VC Bet Home\", y=\"Match Result_H\", data=data)\n",
    "\n",
    "a_VCBet_Home.set(xlabel='Website Odd while Home Team wins', ylabel='Home team won [1]')\n"
   ]
  },
  {
   "cell_type": "code",
   "execution_count": 94,
   "metadata": {},
   "outputs": [
    {
     "data": {
      "text/plain": [
       "[Text(0, 0.5, 'Away team won [1]'),\n",
       " Text(0.5, 0, 'Website Odd while Away Team wins')]"
      ]
     },
     "execution_count": 94,
     "metadata": {},
     "output_type": "execute_result"
    },
    {
     "data": {
      "image/png": "[encoded data removed]",
      "text/plain": [
       "<Figure size 432x288 with 1 Axes>"
      ]
     },
     "metadata": {},
     "output_type": "display_data"
    }
   ],
   "source": [
    "a_B365_Away = sns.scatterplot(x=\"B365 Away\", y=\"Match Result_A\", data=data)\n",
    "\n",
    "a_BetWin_Away = sns.scatterplot(x=\"Bet&Win Away\", y=\"Match Result_A\", data=data)\n",
    "\n",
    "a_Interwetten_Away = sns.scatterplot(x=\"Interwetten Away\", y=\"Match Result_A\", data=data)\n",
    "\n",
    "a_WilliamHill_Away = sns.scatterplot(x=\"William Hill Away\", y=\"Match Result_A\", data=data)\n",
    "\n",
    "a_VCBet_Away = sns.scatterplot(x=\"VC Bet Away\", y=\"Match Result_H\", data=data)\n",
    "\n",
    "a_VCBet_Away.set(xlabel='Website Odd while Away Team wins', ylabel='Away team won [1]')\n"
   ]
  },
  {
   "cell_type": "code",
   "execution_count": 60,
   "metadata": {},
   "outputs": [
    {
     "data": {
      "text/plain": [
       "[Text(0, 0.5, 'Draw [1]'), Text(0.5, 0, 'Website Odd while Draw match')]"
      ]
     },
     "execution_count": 60,
     "metadata": {},
     "output_type": "execute_result"
    },
    {
     "data": {
      "image/png": "[encoded data removed]",
      "text/plain": [
       "<Figure size 432x288 with 1 Axes>"
      ]
     },
     "metadata": {},
     "output_type": "display_data"
    }
   ],
   "source": [
    "a_B365_Draw = sns.scatterplot(x=\"B365 Draw\", y=\"Match Result_D\", data=data)\n",
    "\n",
    "a_BetWin_Draw = sns.scatterplot(x=\"Bet&Win Draw\", y=\"Match Result_D\", data=data)\n",
    "\n",
    "a_Interwetten_Draw = sns.scatterplot(x=\"Iterwetten Draw\", y=\"Match Result_D\", data=data)\n",
    "\n",
    "a_WilliamHill_Draw = sns.scatterplot(x=\"William Hill Draw\", y=\"Match Result_D\", data=data)\n",
    "\n",
    "a_VCBet_Draw = sns.scatterplot(x=\"VC Bet Draw\", y=\"Match Result_D\", data=data)\n",
    "\n",
    "a_VCBet_Draw.set(xlabel='Website Odd while Draw match', ylabel='Draw [1]')"
   ]
  },
  {
   "cell_type": "markdown",
   "metadata": {},
   "source": [
    "**Here is the 1nd multiple regression Home Team Win:**"
   ]
  },
  {
   "cell_type": "code",
   "execution_count": 75,
   "metadata": {},
   "outputs": [],
   "source": [
    "from sklearn.preprocessing import PolynomialFeatures\n",
    "\n",
    "feature_names = ['B365 Home','Bet&Win Home','Interwetten Home','William Hill Home']\n",
    "#feature_names = ['B365 Home']\n",
    "X = np.array(data[feature_names])\n",
    "y = np.array(data[\"VC Bet Home\"])\n",
    "\n",
    "poly = PolynomialFeatures(2)\n",
    "X_poly = poly.fit_transform(X)"
   ]
  },
  {
   "cell_type": "code",
   "execution_count": 76,
   "metadata": {},
   "outputs": [
    {
     "name": "stdout",
     "output_type": "stream",
     "text": [
      "params:  [0.30259227 0.05336311 0.10811789 0.56046999]\n",
      "constant:  -0.0029715468720740434\n",
      "R^2 score:  0.995506047771677\n"
     ]
    }
   ],
   "source": [
    "LR = LinearRegression(fit_intercept=True)\n",
    "LR.fit(X, y)\n",
    "print(\"params: \", LR.coef_)\n",
    "print(\"constant: \", LR.intercept_)\n",
    "print(\"R^2 score: \", LR.score(X, y))"
   ]
  },
  {
   "cell_type": "code",
   "execution_count": 78,
   "metadata": {},
   "outputs": [
    {
     "ename": "ValueError",
     "evalue": "x and y must be the same size",
     "output_type": "error",
     "traceback": [
      "\u001b[0;31m---------------------------------------------------------------------------\u001b[0m",
      "\u001b[0;31mValueError\u001b[0m                                Traceback (most recent call last)",
      "\u001b[0;32m<ipython-input-78-ae47e53aedeb>\u001b[0m in \u001b[0;36m<module>\u001b[0;34m\u001b[0m\n\u001b[1;32m      1\u001b[0m \u001b[0mfig\u001b[0m\u001b[0;34m,\u001b[0m \u001b[0max\u001b[0m \u001b[0;34m=\u001b[0m \u001b[0mplt\u001b[0m\u001b[0;34m.\u001b[0m\u001b[0msubplots\u001b[0m\u001b[0;34m(\u001b[0m\u001b[0mfigsize\u001b[0m\u001b[0;34m=\u001b[0m\u001b[0;34m(\u001b[0m\u001b[0;36m10\u001b[0m\u001b[0;34m,\u001b[0m \u001b[0;36m7\u001b[0m\u001b[0;34m)\u001b[0m\u001b[0;34m)\u001b[0m\u001b[0;34m\u001b[0m\u001b[0;34m\u001b[0m\u001b[0m\n\u001b[0;32m----> 2\u001b[0;31m \u001b[0max\u001b[0m\u001b[0;34m.\u001b[0m\u001b[0mscatter\u001b[0m\u001b[0;34m(\u001b[0m\u001b[0mX\u001b[0m\u001b[0;34m,\u001b[0m \u001b[0my\u001b[0m\u001b[0;34m,\u001b[0m \u001b[0mmarker\u001b[0m\u001b[0;34m=\u001b[0m\u001b[0;34m'o'\u001b[0m\u001b[0;34m,\u001b[0m \u001b[0mcolor\u001b[0m\u001b[0;34m=\u001b[0m\u001b[0;34m'red'\u001b[0m\u001b[0;34m,\u001b[0m \u001b[0ms\u001b[0m\u001b[0;34m=\u001b[0m\u001b[0;36m40\u001b[0m\u001b[0;34m)\u001b[0m\u001b[0;34m\u001b[0m\u001b[0;34m\u001b[0m\u001b[0m\n\u001b[0m\u001b[1;32m      3\u001b[0m \u001b[0;31m# plot the line for regression fit, gets the xy coordinates of the end points\u001b[0m\u001b[0;34m\u001b[0m\u001b[0;34m\u001b[0m\u001b[0;34m\u001b[0m\u001b[0m\n\u001b[1;32m      4\u001b[0m \u001b[0mx_1\u001b[0m \u001b[0;34m=\u001b[0m \u001b[0mnp\u001b[0m\u001b[0;34m.\u001b[0m\u001b[0marray\u001b[0m\u001b[0;34m(\u001b[0m\u001b[0max\u001b[0m\u001b[0;34m.\u001b[0m\u001b[0mget_xlim\u001b[0m\u001b[0;34m(\u001b[0m\u001b[0;34m)\u001b[0m\u001b[0;34m)\u001b[0m\u001b[0;34m\u001b[0m\u001b[0;34m\u001b[0m\u001b[0m\n\u001b[1;32m      5\u001b[0m \u001b[0my_1\u001b[0m \u001b[0;34m=\u001b[0m \u001b[0mLR\u001b[0m\u001b[0;34m.\u001b[0m\u001b[0mintercept_\u001b[0m \u001b[0;34m+\u001b[0m \u001b[0mLR\u001b[0m\u001b[0;34m.\u001b[0m\u001b[0mcoef_\u001b[0m \u001b[0;34m*\u001b[0m \u001b[0mx_1\u001b[0m\u001b[0;34m\u001b[0m\u001b[0;34m\u001b[0m\u001b[0m\n",
      "\u001b[0;32m//anaconda3/lib/python3.7/site-packages/matplotlib/__init__.py\u001b[0m in \u001b[0;36minner\u001b[0;34m(ax, data, *args, **kwargs)\u001b[0m\n\u001b[1;32m   1587\u001b[0m     \u001b[0;32mdef\u001b[0m \u001b[0minner\u001b[0m\u001b[0;34m(\u001b[0m\u001b[0max\u001b[0m\u001b[0;34m,\u001b[0m \u001b[0;34m*\u001b[0m\u001b[0margs\u001b[0m\u001b[0;34m,\u001b[0m \u001b[0mdata\u001b[0m\u001b[0;34m=\u001b[0m\u001b[0;32mNone\u001b[0m\u001b[0;34m,\u001b[0m \u001b[0;34m**\u001b[0m\u001b[0mkwargs\u001b[0m\u001b[0;34m)\u001b[0m\u001b[0;34m:\u001b[0m\u001b[0;34m\u001b[0m\u001b[0;34m\u001b[0m\u001b[0m\n\u001b[1;32m   1588\u001b[0m         \u001b[0;32mif\u001b[0m \u001b[0mdata\u001b[0m \u001b[0;32mis\u001b[0m \u001b[0;32mNone\u001b[0m\u001b[0;34m:\u001b[0m\u001b[0;34m\u001b[0m\u001b[0;34m\u001b[0m\u001b[0m\n\u001b[0;32m-> 1589\u001b[0;31m             \u001b[0;32mreturn\u001b[0m \u001b[0mfunc\u001b[0m\u001b[0;34m(\u001b[0m\u001b[0max\u001b[0m\u001b[0;34m,\u001b[0m \u001b[0;34m*\u001b[0m\u001b[0mmap\u001b[0m\u001b[0;34m(\u001b[0m\u001b[0msanitize_sequence\u001b[0m\u001b[0;34m,\u001b[0m \u001b[0margs\u001b[0m\u001b[0;34m)\u001b[0m\u001b[0;34m,\u001b[0m \u001b[0;34m**\u001b[0m\u001b[0mkwargs\u001b[0m\u001b[0;34m)\u001b[0m\u001b[0;34m\u001b[0m\u001b[0;34m\u001b[0m\u001b[0m\n\u001b[0m\u001b[1;32m   1590\u001b[0m \u001b[0;34m\u001b[0m\u001b[0m\n\u001b[1;32m   1591\u001b[0m         \u001b[0mbound\u001b[0m \u001b[0;34m=\u001b[0m \u001b[0mnew_sig\u001b[0m\u001b[0;34m.\u001b[0m\u001b[0mbind\u001b[0m\u001b[0;34m(\u001b[0m\u001b[0max\u001b[0m\u001b[0;34m,\u001b[0m \u001b[0;34m*\u001b[0m\u001b[0margs\u001b[0m\u001b[0;34m,\u001b[0m \u001b[0;34m**\u001b[0m\u001b[0mkwargs\u001b[0m\u001b[0;34m)\u001b[0m\u001b[0;34m\u001b[0m\u001b[0;34m\u001b[0m\u001b[0m\n",
      "\u001b[0;32m//anaconda3/lib/python3.7/site-packages/matplotlib/axes/_axes.py\u001b[0m in \u001b[0;36mscatter\u001b[0;34m(self, x, y, s, c, marker, cmap, norm, vmin, vmax, alpha, linewidths, verts, edgecolors, plotnonfinite, **kwargs)\u001b[0m\n\u001b[1;32m   4434\u001b[0m         \u001b[0my\u001b[0m \u001b[0;34m=\u001b[0m \u001b[0mnp\u001b[0m\u001b[0;34m.\u001b[0m\u001b[0mma\u001b[0m\u001b[0;34m.\u001b[0m\u001b[0mravel\u001b[0m\u001b[0;34m(\u001b[0m\u001b[0my\u001b[0m\u001b[0;34m)\u001b[0m\u001b[0;34m\u001b[0m\u001b[0;34m\u001b[0m\u001b[0m\n\u001b[1;32m   4435\u001b[0m         \u001b[0;32mif\u001b[0m \u001b[0mx\u001b[0m\u001b[0;34m.\u001b[0m\u001b[0msize\u001b[0m \u001b[0;34m!=\u001b[0m \u001b[0my\u001b[0m\u001b[0;34m.\u001b[0m\u001b[0msize\u001b[0m\u001b[0;34m:\u001b[0m\u001b[0;34m\u001b[0m\u001b[0;34m\u001b[0m\u001b[0m\n\u001b[0;32m-> 4436\u001b[0;31m             \u001b[0;32mraise\u001b[0m \u001b[0mValueError\u001b[0m\u001b[0;34m(\u001b[0m\u001b[0;34m\"x and y must be the same size\"\u001b[0m\u001b[0;34m)\u001b[0m\u001b[0;34m\u001b[0m\u001b[0;34m\u001b[0m\u001b[0m\n\u001b[0m\u001b[1;32m   4437\u001b[0m \u001b[0;34m\u001b[0m\u001b[0m\n\u001b[1;32m   4438\u001b[0m         \u001b[0;32mif\u001b[0m \u001b[0ms\u001b[0m \u001b[0;32mis\u001b[0m \u001b[0;32mNone\u001b[0m\u001b[0;34m:\u001b[0m\u001b[0;34m\u001b[0m\u001b[0;34m\u001b[0m\u001b[0m\n",
      "\u001b[0;31mValueError\u001b[0m: x and y must be the same size"
     ]
    },
    {
     "data": {
      "image/png": "[encoded data removed]",
      "text/plain": [
       "<Figure size 720x504 with 1 Axes>"
      ]
     },
     "metadata": {},
     "output_type": "display_data"
    }
   ],
   "source": [
    "fig, ax = plt.subplots(figsize=(10, 7))\n",
    "ax.scatter(X, y, marker='o', color='red', s=40)\n",
    "# plot the line for regression fit, gets the xy coordinates of the end points\n",
    "x_1 = np.array(ax.get_xlim())\n",
    "y_1 = LR.intercept_ + LR.coef_ * x_1\n",
    "ax.plot(x_1, y_1, color='blue', linewidth=2)\n",
    "\n",
    "# let's also plot the error bars\n",
    "\n",
    "lines = []\n",
    "for i, x_ in enumerate(X): \n",
    "    origin = (X[i], LR.intercept_ + LR.coef_ * X[i])\n",
    "    end = (X[i], y[i])\n",
    "    lines.append([origin, end])    \n",
    "lc = mc.LineCollection(lines, linewidths=1)\n",
    "ax.add_collection(lc)\n",
    "\n",
    "ax.set_xlabel('B365 Home','Bet&Win Home','Interwetten Home','William Hill Home', size=14)\n",
    "ax.set_ylabel(\"VC Bet Home\", size=14)\n",
    "plt.tight_layout();"
   ]
  },
  {
   "cell_type": "code",
   "execution_count": 63,
   "metadata": {},
   "outputs": [],
   "source": [
    "from sklearn.model_selection import train_test_split\n",
    "X_train, X_test, y_train, y_test = train_test_split(X, y, test_size=0.2, random_state=72)"
   ]
  },
  {
   "cell_type": "code",
   "execution_count": 64,
   "metadata": {},
   "outputs": [
    {
     "data": {
      "text/plain": [
       "0.9953454399269277"
      ]
     },
     "execution_count": 64,
     "metadata": {},
     "output_type": "execute_result"
    }
   ],
   "source": [
    "LR.score(X_train,y_train)"
   ]
  },
  {
   "cell_type": "code",
   "execution_count": 65,
   "metadata": {},
   "outputs": [
    {
     "data": {
      "text/plain": [
       "0.9963965439136732"
      ]
     },
     "execution_count": 65,
     "metadata": {},
     "output_type": "execute_result"
    }
   ],
   "source": [
    "LR.score(X_test, y_test)"
   ]
  },
  {
   "cell_type": "markdown",
   "metadata": {},
   "source": [
    "**Here is the 2nd multiple regression for the Draw:**"
   ]
  },
  {
   "cell_type": "code",
   "execution_count": 66,
   "metadata": {},
   "outputs": [],
   "source": [
    "feature_names = ['B365 Draw','Bet&Win Draw','Iterwetten Draw','William Hill Draw']\n",
    "#feature_names = ['B365 Home']\n",
    "X = np.array(data[feature_names])\n",
    "y = np.array(data[\"VC Bet Draw\"])"
   ]
  },
  {
   "cell_type": "code",
   "execution_count": 67,
   "metadata": {},
   "outputs": [
    {
     "name": "stdout",
     "output_type": "stream",
     "text": [
      "params:  [ 0.53085883  0.20144432 -0.00952002  0.31037624]\n",
      "constant:  0.0003341718152453377\n",
      "R^2 score:  0.9956839609042332\n"
     ]
    }
   ],
   "source": [
    "LR = LinearRegression(fit_intercept=True)\n",
    "LR.fit(X, y)\n",
    "print(\"params: \", LR.coef_)\n",
    "print(\"constant: \", LR.intercept_)\n",
    "print(\"R^2 score: \", LR.score(X, y))"
   ]
  },
  {
   "cell_type": "code",
   "execution_count": 68,
   "metadata": {},
   "outputs": [
    {
     "data": {
      "text/plain": [
       "0.992930032496137"
      ]
     },
     "execution_count": 68,
     "metadata": {},
     "output_type": "execute_result"
    }
   ],
   "source": [
    "LR.score(X_train,y_train)"
   ]
  },
  {
   "cell_type": "code",
   "execution_count": 69,
   "metadata": {},
   "outputs": [
    {
     "data": {
      "text/plain": [
       "0.9965901307838128"
      ]
     },
     "execution_count": 69,
     "metadata": {},
     "output_type": "execute_result"
    }
   ],
   "source": [
    "LR.score(X_test, y_test)"
   ]
  },
  {
   "cell_type": "markdown",
   "metadata": {
    "scrolled": true
   },
   "source": [
    "**Here is the 3rd multiple regression for the Away Team Win:**"
   ]
  },
  {
   "cell_type": "code",
   "execution_count": 70,
   "metadata": {},
   "outputs": [],
   "source": [
    "feature_names = ['B365 Away','Bet&Win Away','Interwetten Away','William Hill Away']\n",
    "#feature_names = ['B365 Home']\n",
    "X = np.array(data[feature_names])\n",
    "y = np.array(data[\"VC Bet Away\"])"
   ]
  },
  {
   "cell_type": "code",
   "execution_count": 71,
   "metadata": {},
   "outputs": [
    {
     "name": "stdout",
     "output_type": "stream",
     "text": [
      "params:  [ 0.39004102  0.27023067 -0.12631795  0.42983265]\n",
      "constant:  -0.004930024237673011\n",
      "R^2 score:  0.9849063181864042\n"
     ]
    }
   ],
   "source": [
    "LR = LinearRegression(fit_intercept=True)\n",
    "LR.fit(X, y)\n",
    "print(\"params: \", LR.coef_)\n",
    "print(\"constant: \", LR.intercept_)\n",
    "print(\"R^2 score: \", LR.score(X, y))"
   ]
  },
  {
   "cell_type": "code",
   "execution_count": 72,
   "metadata": {},
   "outputs": [
    {
     "data": {
      "text/plain": [
       "0.9885191561559715"
      ]
     },
     "execution_count": 72,
     "metadata": {},
     "output_type": "execute_result"
    }
   ],
   "source": [
    "LR.score(X_train,y_train)"
   ]
  },
  {
   "cell_type": "code",
   "execution_count": 73,
   "metadata": {},
   "outputs": [
    {
     "data": {
      "text/plain": [
       "0.9889627147445248"
      ]
     },
     "execution_count": 73,
     "metadata": {},
     "output_type": "execute_result"
    }
   ],
   "source": [
    "LR.score(X_test, y_test)"
   ]
  },
  {
   "cell_type": "code",
   "execution_count": null,
   "metadata": {},
   "outputs": [],
   "source": []
  }
 ],
 "metadata": {
  "colab": {
   "name": "test.ipynb",
   "provenance": []
  },
  "kernelspec": {
   "display_name": "Python 3",
   "language": "python",
   "name": "python3"
  },
  "language_info": {
   "codemirror_mode": {
    "name": "ipython",
    "version": 3
   },
   "file_extension": ".py",
   "mimetype": "text/x-python",
   "name": "python",
   "nbconvert_exporter": "python",
   "pygments_lexer": "ipython3",
   "version": "3.7.3"
  }
 },
 "nbformat": 4,
 "nbformat_minor": 1
}
